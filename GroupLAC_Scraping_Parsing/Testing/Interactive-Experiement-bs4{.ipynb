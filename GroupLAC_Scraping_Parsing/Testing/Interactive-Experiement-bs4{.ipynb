{
 "cells": [
  {
   "cell_type": "markdown",
   "metadata": {},
   "source": [
    "Restarted Dir_Investigacion (Python 3.9.18)"
   ]
  },
  {
   "cell_type": "code",
   "execution_count": 1,
   "metadata": {},
   "outputs": [
    {
     "ename": "TypeError",
     "evalue": "unhashable type: 'slice'",
     "output_type": "error",
     "traceback": [
      "\u001b[1;31m---------------------------------------------------------------------------\u001b[0m",
      "\u001b[1;31mTypeError\u001b[0m                                 Traceback (most recent call last)",
      "Cell \u001b[1;32mIn[1], line 418\u001b[0m\n\u001b[0;32m      2\u001b[0m \u001b[39mimport\u001b[39;00m \u001b[39mpandas\u001b[39;00m \u001b[39mas\u001b[39;00m \u001b[39mpd\u001b[39;00m\n\u001b[0;32m      4\u001b[0m html_project \u001b[39m=\u001b[39m \u001b[39m\"\"\"\u001b[39m\n\u001b[0;32m      5\u001b[0m \n\u001b[0;32m      6\u001b[0m \u001b[39m\"\u001b[39m\u001b[39m<tbody><tr>\u001b[39m\n\u001b[1;32m   (...)\u001b[0m\n\u001b[0;32m    415\u001b[0m \u001b[39m        \u001b[39m\n\u001b[0;32m    416\u001b[0m \u001b[39m    </tbody>\u001b[39m\u001b[39m\"\"\"\u001b[39m\n\u001b[1;32m--> 418\u001b[0m soup \u001b[39m=\u001b[39m BeautifulSoup(html_project, \u001b[39m\"\u001b[39;49m\u001b[39mhtml.parser\u001b[39;49m\u001b[39m\"\u001b[39;49m)[\u001b[39m1\u001b[39;49m:]\n\u001b[0;32m    420\u001b[0m sample_table_rows \u001b[39m=\u001b[39m soup\u001b[39m.\u001b[39mfind_all(\u001b[39m\"\u001b[39m\u001b[39mtr\u001b[39m\u001b[39m\"\u001b[39m)[\u001b[39m3\u001b[39m]\n",
      "File \u001b[1;32mc:\\Users\\santi\\anaconda3\\envs\\Dir_Investigacion\\lib\\site-packages\\bs4\\element.py:1573\u001b[0m, in \u001b[0;36mTag.__getitem__\u001b[1;34m(self, key)\u001b[0m\n\u001b[0;32m   1570\u001b[0m \u001b[39mdef\u001b[39;00m \u001b[39m__getitem__\u001b[39m(\u001b[39mself\u001b[39m, key):\n\u001b[0;32m   1571\u001b[0m \u001b[39m    \u001b[39m\u001b[39m\"\"\"tag[key] returns the value of the 'key' attribute for the Tag,\u001b[39;00m\n\u001b[0;32m   1572\u001b[0m \u001b[39m    and throws an exception if it's not there.\"\"\"\u001b[39;00m\n\u001b[1;32m-> 1573\u001b[0m     \u001b[39mreturn\u001b[39;00m \u001b[39mself\u001b[39;49m\u001b[39m.\u001b[39;49mattrs[key]\n",
      "\u001b[1;31mTypeError\u001b[0m: unhashable type: 'slice'"
     ]
    }
   ],
   "source": [
    "from bs4 import BeautifulSoup\n",
    "import pandas as pd\n",
    "\n",
    "html_project = \"\"\"\n",
    "\n",
    "\"<tbody><tr>\n",
    "            <td class=\"\"celdaEncabezado\"\" colspan=\"\"2\"\">Artículos publicados</td>\n",
    "        </tr>\n",
    "        \n",
    "        <tr>\n",
    "            <td class=\"\"celdas_1\"\" align=\"\"right\"\">                                        \n",
    "                \n",
    "            </td>                \n",
    "            <td class=\"\"celdas1\"\">                    \n",
    "                1.- <strong>Publicado en revista especializada:</strong> Tumor-to-Tumor Metastasis: Lung Adenocarcinoma as a Recipient of Metastasis from Renal Cell Carcinoma: A Case Report<br>\n",
    "                , AMERICAN JOURNAL OF CASE REPORTS ISSN: 1941-5923, 2021 vol:22 fasc: NA págs: e932012-1 - e932012-6, <strong>DOI:</strong>10.12659/AJCR.932012\n",
    "                <br>\n",
    "                Autores: RICARDO ELIAS BRUGES MAYA\n",
    "            </td>        \n",
    "        </tr> \n",
    "        \n",
    "        <tr>\n",
    "            <td class=\"\"celdas_0\"\" align=\"\"right\"\">                                        \n",
    "                \n",
    "                <img src=\"\"/gruplac/images/chulo_0.jpg\"\" height=\"\"15px\"\" width=\"\"15px\"\">\n",
    "                \n",
    "            </td>                \n",
    "            <td class=\"\"celdas0\"\">                    \n",
    "                2.- <strong>Caso clínico:</strong> Adult Wilms' Tumor: Case Report and Literature Review<br>\n",
    "                , Cureus ISSN: 2168-8184, 2021 vol:13 fasc:  págs: 1 - 5, <strong>DOI:</strong>\n",
    "                <br>\n",
    "                Autores: RICARDO ELIAS BRUGES MAYA\n",
    "            </td>        \n",
    "        </tr> \n",
    "        \n",
    "        <tr>\n",
    "            <td class=\"\"celdas_1\"\" align=\"\"right\"\">                                        \n",
    "                \n",
    "            </td>                \n",
    "            <td class=\"\"celdas1\"\">                    \n",
    "                3.- <strong>Publicado en revista especializada:</strong> High-risk human papillomavirus infection among women living with HIV in Latin America and the Caribbean: A systematic review and meta-analysis<br>\n",
    "                , INTERNATIONAL JOURNAL OF STD AND AIDS ISSN: 0956-4624, 2021 vol:0 fasc: N/A págs: 1 - 12, <strong>DOI:</strong>10.1177/09564624211037498\n",
    "                <br>\n",
    "                Autores: MARIA CAICEDO MARTINEZ, GINNA PAOLA FERNANDEZ DEAZA, CAMILA ORDONEZ REYES, RAUL HERNANDO MURILLO MORENO\n",
    "            </td>        \n",
    "        </tr> \n",
    "        \n",
    "        <tr>\n",
    "            <td class=\"\"celdas_0\"\" align=\"\"right\"\">                                        \n",
    "                \n",
    "            </td>                \n",
    "            <td class=\"\"celdas0\"\">                    \n",
    "                4.- <strong>Publicado en revista especializada:</strong> First-line nivolumab plus chemotherapy versus chemotherapy alone for advanced gastric, gastro-oesophageal junction, and oesophageal adenocarcinoma (CheckMate 649): a randomised, open-label, phase 3 trial<br>\n",
    "                , LANCET ISSN: 0140-6736, 2021 vol:398 fasc: NA págs: 27 - 40, <strong>DOI:</strong>10.1016/S0140-6736(21)00797-2\n",
    "                <br>\n",
    "                Autores: RICARDO ELIAS BRUGES MAYA\n",
    "            </td>        \n",
    "        </tr> \n",
    "        \n",
    "        <tr>\n",
    "            <td class=\"\"celdas_1\"\" align=\"\"right\"\">                                        \n",
    "                \n",
    "                <img src=\"\"/gruplac/images/chulo_1.jpg\"\" height=\"\"15px\"\" width=\"\"15px\"\">\n",
    "                \n",
    "            </td>                \n",
    "            <td class=\"\"celdas1\"\">                    \n",
    "                5.- <strong>Publicado en revista especializada:</strong> Impact of COVID-19 Infection on Patients with Cancer: Experience in a Latin American Country: The ACHOCC-19 Study<br>\n",
    "                , ONCOLOGIST ISSN: 1549-490X, 2021 vol:3 fasc: 26 págs: 1 - 13, <strong>DOI:</strong>10.1002/onco.13861\n",
    "                <br>\n",
    "                Autores: JULY ANDREA RUSSI NOGUERA\n",
    "            </td>        \n",
    "        </tr> \n",
    "        \n",
    "        <tr>\n",
    "            <td class=\"\"celdas_0\"\" align=\"\"right\"\">                                        \n",
    "                \n",
    "                <img src=\"\"/gruplac/images/chulo_0.jpg\"\" height=\"\"15px\"\" width=\"\"15px\"\">\n",
    "                \n",
    "            </td>                \n",
    "            <td class=\"\"celdas0\"\">                    \n",
    "                6.- <strong>Publicado en revista especializada:</strong> Radiation Oncology in Colombia: An Opportunity for Improvement in the Postconflict Era<br>\n",
    "                , INTERNATIONAL JOURNAL OF RADIATION ONCOLOGY BIOLOGY PHYSICS ISSN: 1879-355X, 2021 vol:109 fasc: 5 págs: 1142 - 1150, <strong>DOI:</strong>10.1016/j.ijrobp.2020.12.006\n",
    "                <br>\n",
    "                Autores: MARIA CAICEDO MARTINEZ, ALEJANDRO GONZALEZ MOTTA, OSCAR GAMBOA GARAY, RAUL HERNANDO MURILLO MORENO, CAROLINA WIESNER CEBALLOS\n",
    "            </td>        \n",
    "        </tr> \n",
    "        \n",
    "        <tr>\n",
    "            <td class=\"\"celdas_1\"\" align=\"\"right\"\">                                        \n",
    "                \n",
    "            </td>                \n",
    "            <td class=\"\"celdas1\"\">                    \n",
    "                7.- <strong>Publicado en revista especializada:</strong> Características de los pacientes con cáncer de pulmón de célula no pequeña en el Instituto Nacional de Cancerología de Bogotá<br>\n",
    "                , Revista Colombiana de Cancerologia ISSN: 0123-9015, 2021 vol:25 fasc:  págs: 103 - 109, <strong>DOI:</strong>\n",
    "                <br>\n",
    "                Autores: RICARDO ELIAS BRUGES MAYA\n",
    "            </td>        \n",
    "        </tr> \n",
    "        \n",
    "        <tr>\n",
    "            <td class=\"\"celdas_0\"\" align=\"\"right\"\">                                        \n",
    "                \n",
    "                <img src=\"\"/gruplac/images/chulo_0.jpg\"\" height=\"\"15px\"\" width=\"\"15px\"\">\n",
    "                \n",
    "            </td>                \n",
    "            <td class=\"\"celdas0\"\">                    \n",
    "                8.- <strong>Publicado en revista especializada:</strong> Impact of COVID-19 Infection on Patients with Cancer: Experience in a Latin American Country: The ACHOCC-19 Study<br>\n",
    "                , ONCOLOGIST ISSN: 1083-7159, 2021 vol:26 fasc:  págs: 1 - 13, <strong>DOI:</strong>\n",
    "                <br>\n",
    "                Autores: RICARDO ELIAS BRUGES MAYA\n",
    "            </td>        \n",
    "        </tr> \n",
    "        \n",
    "        <tr>\n",
    "            <td class=\"\"celdas_1\"\" align=\"\"right\"\">                                        \n",
    "                \n",
    "            </td>                \n",
    "            <td class=\"\"celdas1\"\">                    \n",
    "                9.- <strong>Publicado en revista especializada:</strong> Hormonoterapia en cáncer de mama metastásico. Revisión de la Evidencia y Abordaje Terapéutico en el Instituto Nacional de Cancerología, Bogotá - Colombia<br>\n",
    "                , Revista Colombiana de Cancerologia ISSN: 0123-9015, 2021 vol:25 fasc:  págs: 142 - 151, <strong>DOI:</strong>\n",
    "                <br>\n",
    "                Autores: RICARDO ELIAS BRUGES MAYA\n",
    "            </td>        \n",
    "        </tr> \n",
    "        \n",
    "        <tr>\n",
    "            <td class=\"\"celdas_0\"\" align=\"\"right\"\">                                        \n",
    "                \n",
    "            </td>                \n",
    "            <td class=\"\"celdas0\"\">                    \n",
    "                10.- <strong>Publicado en revista especializada:</strong> Manejo sistémico adyuvante en pacientes con cáncer de mama y enfermedad residual invasiva posterior a quimioterapia neoadyuvante. Actualización de la Evidencia y Abordaje Terapéutico en el Instituto Nacional de Cancerología, Bogotá-Colombia<br>\n",
    "                , Revista Colombiana de Cancerologia ISSN: 0123-9015, 2021 vol:25 fasc: 1 págs: 160 - 166, <strong>DOI:</strong>\n",
    "                <br>\n",
    "                Autores: RICARDO ELIAS BRUGES MAYA\n",
    "            </td>        \n",
    "        </tr> \n",
    "        \n",
    "        <tr>\n",
    "            <td class=\"\"celdas_1\"\" align=\"\"right\"\">                                        \n",
    "                \n",
    "                <img src=\"\"/gruplac/images/chulo_1.jpg\"\" height=\"\"15px\"\" width=\"\"15px\"\">\n",
    "                \n",
    "            </td>                \n",
    "            <td class=\"\"celdas1\"\">                    \n",
    "                11.- <strong>Revisión (Survey):</strong> Inestabilidad microsatelital y cáncer gástrico<br>\n",
    "                , Revista Colombiana de Cirugia ISSN: 0120-856X, 2021 vol:36 fasc:  págs: 120 - 131, <strong>DOI:</strong>10.30944/20117582.658\n",
    "                <br>\n",
    "                Autores: GABRIELA NEGRETE TOBAR, ALEJANDRO GONZALEZ MOTTA, OSCAR MESSA BOTERO, JUAN CARLOS GALVIS SERRANO, JULIANA PINEDA ORTEGA, NATALIA LONDONO DE VIVERO, RICARDO ELIAS BRUGES MAYA\n",
    "            </td>        \n",
    "        </tr> \n",
    "        \n",
    "        <tr>\n",
    "            <td class=\"\"celdas_0\"\" align=\"\"right\"\">                                        \n",
    "                \n",
    "                <img src=\"\"/gruplac/images/chulo_0.jpg\"\" height=\"\"15px\"\" width=\"\"15px\"\">\n",
    "                \n",
    "            </td>                \n",
    "            <td class=\"\"celdas0\"\">                    \n",
    "                12.- <strong>Publicado en revista especializada:</strong> Evaluación de errores de posicionamiento en los 6 grados de libertad en pacientes con cáncer de próstata tratados con radioterapia<br>\n",
    "                , UROLOGIA COLOMBIANA ISSN: 0120-789X, 2021 vol:30 fasc: 09 págs:  - , <strong>DOI:</strong>10.1055/s-0040-1714726\n",
    "                <br>\n",
    "                Autores: RICARDO ANTONIO SANCHEZ FORERO, PETER ALFONSO OLEJUA VILLA, RAUL HERNANDO MURILLO MORENO\n",
    "            </td>        \n",
    "        </tr> \n",
    "        \n",
    "        <tr>\n",
    "            <td class=\"\"celdas_1\"\" align=\"\"right\"\">                                        \n",
    "                \n",
    "            </td>                \n",
    "            <td class=\"\"celdas1\"\">                    \n",
    "                13.- <strong>Publicado en revista especializada:</strong> Hormonoterapia adyuvante en cáncer de mama. Revisión de la Evidencia y Abordaje Terapéutico en el Instituto Instituto Nacional de Cancerología, Bogotá, Colombia<br>\n",
    "                , Revista Colombiana de Cancerologia ISSN: 0123-9015, 2021 vol:25 fasc:  págs: 130 - 142, <strong>DOI:</strong>\n",
    "                <br>\n",
    "                Autores: RICARDO ELIAS BRUGES MAYA\n",
    "            </td>        \n",
    "        </tr> \n",
    "        \n",
    "        <tr>\n",
    "            <td class=\"\"celdas_0\"\" align=\"\"right\"\">                                        \n",
    "                \n",
    "                <img src=\"\"/gruplac/images/chulo_0.jpg\"\" height=\"\"15px\"\" width=\"\"15px\"\">\n",
    "                \n",
    "            </td>                \n",
    "            <td class=\"\"celdas0\"\">                    \n",
    "                14.- <strong>Publicado en revista especializada:</strong> Desafíos de los países con economías de bajo-a-mediano ingreso para el manejo del cáncer de próstata por la pandemia por COVID-19: La perspectiva del Oncólogo Radioterápico<br>\n",
    "                , REVISTA MEXICANA DE UROLOGIA ISSN: 0185-4542, 2020 vol:80 fasc:  págs: 1 - 14, <strong>DOI:</strong>10.48193/rmu.v80i4.663\n",
    "                <br>\n",
    "                Autores: MARIA CAICEDO MARTINEZ, ALEJANDRO GONZALEZ MOTTA, SEBASTIAN RAMIRO GIL QUINONES, JUAN CARLOS GALVIS SERRANO\n",
    "            </td>        \n",
    "        </tr> \n",
    "        \n",
    "        <tr>\n",
    "            <td class=\"\"celdas_1\"\" align=\"\"right\"\">                                        \n",
    "                \n",
    "                <img src=\"\"/gruplac/images/chulo_1.jpg\"\" height=\"\"15px\"\" width=\"\"15px\"\">\n",
    "                \n",
    "            </td>                \n",
    "            <td class=\"\"celdas1\"\">                    \n",
    "                15.- <strong>Publicado en revista especializada:</strong> In􀁿uence of Dose Intensity in Consolidation with HIDAC and Other Clinical and Biological Parameters in the Survival of AML.<br>\n",
    "                Estados Unidos, JOURNAL OF CANCER EPIDEMIOLOGY ISSN: 1687-8558, 2020 vol:2020 fasc: N/A págs: 1 - 7, <strong>DOI:</strong>10.1155/2020/8021095\n",
    "                <br>\n",
    "                Autores: JULIO CESAR SOLANO VEGA\n",
    "            </td>        \n",
    "        </tr> \n",
    "        \n",
    "        <tr>\n",
    "            <td class=\"\"celdas_0\"\" align=\"\"right\"\">                                        \n",
    "                \n",
    "                <img src=\"\"/gruplac/images/chulo_0.jpg\"\" height=\"\"15px\"\" width=\"\"15px\"\">\n",
    "                \n",
    "            </td>                \n",
    "            <td class=\"\"celdas0\"\">                    \n",
    "                16.- <strong>Publicado en revista especializada:</strong> Cervical Cancer Epidemiology, Prevention and Screening among Women Living with HIV in the Americas region: A Systematic Review Protocol<br>\n",
    "                , Universitas Médica ISSN: 0041-9095, 2020 vol:61 fasc: 4 págs: 1 - 8, <strong>DOI:</strong>10.11144/Javeriana.umed61-4.ccep\n",
    "                <br>\n",
    "                Autores: MARIA CAICEDO MARTINEZ, CAMILA ORDONEZ REYES, GINNA PAOLA FERNANDEZ DEAZA, RAUL HERNANDO MURILLO MORENO\n",
    "            </td>        \n",
    "        </tr> \n",
    "        \n",
    "        <tr>\n",
    "            <td class=\"\"celdas_1\"\" align=\"\"right\"\">                                        \n",
    "                \n",
    "                <img src=\"\"/gruplac/images/chulo_1.jpg\"\" height=\"\"15px\"\" width=\"\"15px\"\">\n",
    "                \n",
    "            </td>                \n",
    "            <td class=\"\"celdas1\"\">                    \n",
    "                17.- <strong>Publicado en revista especializada:</strong> Influence of Dose Intensity in Consolidation with HIDAC and Other Clinical and Biological Parameters in the Survival of AML<br>\n",
    "                , JOURNAL OF CANCER EPIDEMIOLOGY ISSN: 1687-8566, 2020 vol:2020 fasc: NA págs:  - , <strong>DOI:</strong>10.1155/2020/8021095\n",
    "                <br>\n",
    "                Autores: MONICA AREVALO ZAMBRANO, JULIO CESAR SOLANO VEGA, RICARDO ANDRES BALLESTEROS RAMIREZ, SUSANA FIORENTINO GOMEZ, RAUL HERNANDO MURILLO MORENO\n",
    "            </td>        \n",
    "        </tr> \n",
    "        \n",
    "        <tr>\n",
    "            <td class=\"\"celdas_0\"\" align=\"\"right\"\">                                        \n",
    "                \n",
    "                <img src=\"\"/gruplac/images/chulo_0.jpg\"\" height=\"\"15px\"\" width=\"\"15px\"\">\n",
    "                \n",
    "            </td>                \n",
    "            <td class=\"\"celdas0\"\">                    \n",
    "                18.- <strong>Publicado en revista especializada:</strong> Perspectivas de pacientes y profesionales en torno al uso de medicinas alternativas y complementarias para el cuidado del cáncer: un estudio exploratorio<br>\n",
    "                , Universitas Médica ISSN: 0041-9095, 2020 vol:62 fasc: 1 págs: 1 - 12, <strong>DOI:</strong>10.11144/javeriana.umed62-1.pppu.\n",
    "                <br>\n",
    "                Autores: MARIA DEL PILAR GARCIA PADILLA, CAMILA ORDONEZ REYES, PAOLA ANDREA MEDINA MUNOZ, GINNA PAOLA FERNANDEZ DEAZA, OLGA LUCIA MORALES MESA, RAUL HERNANDO MURILLO MORENO\n",
    "            </td>        \n",
    "        </tr> \n",
    "        \n",
    "        <tr>\n",
    "            <td class=\"\"celdas_1\"\" align=\"\"right\"\">                                        \n",
    "                \n",
    "                <img src=\"\"/gruplac/images/chulo_1.jpg\"\" height=\"\"15px\"\" width=\"\"15px\"\">\n",
    "                \n",
    "            </td>                \n",
    "            <td class=\"\"celdas1\"\">                    \n",
    "                19.- <strong>Revisión (Survey):</strong> Recomendaciones nacionales para el estudio y tratamiento del cáncer de pulmón durante la contingencia causada por COVID-19 en Colombia<br>\n",
    "                , Revista Colombiana De Neumología ISSN: 0121-5426, 2020 vol:32 fasc:  págs: 68 - 77, <strong>DOI:</strong>\n",
    "                <br>\n",
    "                Autores: RICARDO ELIAS BRUGES MAYA\n",
    "            </td>        \n",
    "        </tr> \n",
    "        \n",
    "        <tr>\n",
    "            <td class=\"\"celdas_0\"\" align=\"\"right\"\">                                        \n",
    "                \n",
    "                <img src=\"\"/gruplac/images/chulo_0.jpg\"\" height=\"\"15px\"\" width=\"\"15px\"\">\n",
    "                \n",
    "            </td>                \n",
    "            <td class=\"\"celdas0\"\">                    \n",
    "                20.- <strong>Publicado en revista especializada:</strong> Installing oncofertility programs for common cancers in limited resource settings<br>\n",
    "                Estados Unidos, JOURNAL OF ASSISTED REPRODUCTION AND GENETICS ISSN: 1058-0468, 2020 vol:31 fasc: N/A págs: 1567 - 1577, <strong>DOI:</strong>10.1007/s10815-020-01821-7\n",
    "                <br>\n",
    "                Autores: JULY ANDREA RUSSI NOGUERA\n",
    "            </td>        \n",
    "        </tr> \n",
    "        \n",
    "        <tr>\n",
    "            <td class=\"\"celdas_1\"\" align=\"\"right\"\">                                        \n",
    "                \n",
    "                <img src=\"\"/gruplac/images/chulo_1.jpg\"\" height=\"\"15px\"\" width=\"\"15px\"\">\n",
    "                \n",
    "            </td>                \n",
    "            <td class=\"\"celdas1\"\">                    \n",
    "                21.- <strong>Publicado en revista especializada:</strong> CD38: From Positive to Negative Expression After Daratumumab Treatment. Case Report<br>\n",
    "                , Cureus ISSN: 2168-8184, 2020 vol:12 fasc: 4 págs:  - , <strong>DOI:</strong>10.7759/cureus.7627\n",
    "                <br>\n",
    "                Autores: ORLANDO BONELL PATINO ESCOBAR, MONICA AREVALO ZAMBRANO, MAXIMO LINARES PATINO, JUAN SEBASTIAN ALCALA LARA\n",
    "            </td>        \n",
    "        </tr> \n",
    "        \n",
    "        <tr>\n",
    "            <td class=\"\"celdas_0\"\" align=\"\"right\"\">                                        \n",
    "                \n",
    "                <img src=\"\"/gruplac/images/chulo_0.jpg\"\" height=\"\"15px\"\" width=\"\"15px\"\">\n",
    "                \n",
    "            </td>                \n",
    "            <td class=\"\"celdas0\"\">                    \n",
    "                22.- <strong>Publicado en revista especializada:</strong> Barriers and Opportunities of Oncofertility Practice in Nine Developing Countries and the Emerging Oncofertility Professional Engagement Network<br>\n",
    "                Estados Unidos, JCO PRECISION ONCOLOGY ISSN: 2473-4284, 2020 vol:2 fasc:  págs: 369 - 374, <strong>DOI:</strong>10.1200/JGO.18.00180\n",
    "                <br>\n",
    "                Autores: JULY ANDREA RUSSI NOGUERA\n",
    "            </td>        \n",
    "        </tr> \n",
    "        \n",
    "        <tr>\n",
    "            <td class=\"\"celdas_1\"\" align=\"\"right\"\">                                        \n",
    "                \n",
    "                <img src=\"\"/gruplac/images/chulo_1.jpg\"\" height=\"\"15px\"\" width=\"\"15px\"\">\n",
    "                \n",
    "            </td>                \n",
    "            <td class=\"\"celdas1\"\">                    \n",
    "                23.- <strong>Publicado en revista especializada:</strong> Radiation Oncology Workforce in Colombia<br>\n",
    "                , JOURNAL OF GLOBAL ONCOLOGY ISSN: 2378-9506, 2020 vol:6 fasc: NA págs:  - , <strong>DOI:</strong>10.1200/JGO.19.00195.\n",
    "                <br>\n",
    "                Autores: RAUL HERNANDO MURILLO MORENO, RICARDO ANTONIO SANCHEZ FORERO\n",
    "            </td>        \n",
    "        </tr> \n",
    "        \n",
    "        <tr>\n",
    "            <td class=\"\"celdas_0\"\" align=\"\"right\"\">                                        \n",
    "                \n",
    "                <img src=\"\"/gruplac/images/chulo_0.jpg\"\" height=\"\"15px\"\" width=\"\"15px\"\">\n",
    "                \n",
    "            </td>                \n",
    "            <td class=\"\"celdas0\"\">                    \n",
    "                24.- <strong>Publicado en revista especializada:</strong> Experiencia en el tratamiento del carcinoma basocelular localmente avanzado o metastásico con Vismodegib en el Instituto Nacional de Cancerología entre los años 2014 y 2015<br>\n",
    "                Argentina, Revista Argentina de Dermatologia ISSN: 1851-300X, 2020 vol:101 fasc: 2 págs: 1 - 15, <strong>DOI:</strong>\n",
    "                <br>\n",
    "                Autores: KELMAN HANAEL OJEDA RODRIGUEZ\n",
    "            </td>        \n",
    "        </tr> \n",
    "        \n",
    "        <tr>\n",
    "            <td class=\"\"celdas_1\"\" align=\"\"right\"\">                                        \n",
    "                \n",
    "                <img src=\"\"/gruplac/images/chulo_1.jpg\"\" height=\"\"15px\"\" width=\"\"15px\"\">\n",
    "                \n",
    "            </td>                \n",
    "            <td class=\"\"celdas1\"\">                    \n",
    "                25.- <strong>Publicado en revista especializada:</strong> Brentuximab Vedotin As Consolidation Therapy Post Hematopoietic Stem Cell Transplantation for Patients with Relapsed or Refractory Hodgkin Lymphoma: A Real World Analysis of the Colombian Experience | Blood | American Society of Hematology<br>\n",
    "                , BLOOD ISSN: 1528-0020, 2019 vol:134 fasc: 1 págs:  - , <strong>DOI:</strong>10.1182/blood-2019-129295\n",
    "                <br>\n",
    "                Autores: MONICA AREVALO ZAMBRANO, ORLANDO BONELL PATINO ESCOBAR, LEONARDO JOSE ENCISO OLIVERA, HUMBERTO MARTINEZ CORDERO, JULIO CESAR SOLANO VEGA, OLGA PAOLA OMANA ORDUZ, ULRIKE HEIDER, ALEJANDRO RUIZ PATINO, MARIA PAOLA SPIRKO SANCHEZ, CLAUDIA MARCELA CHALELA GIL, DIANA OTERO D DE LA HOZ, CLAUDIA LUCIA SOSSA MELO, VIRGINIA ABELLO POLO, MONICA OSUNA PEREZ, AMADO JOSE KARDUSS URUETA\n",
    "            </td>        \n",
    "        </tr> \n",
    "        \n",
    "        <tr>\n",
    "            <td class=\"\"celdas_0\"\" align=\"\"right\"\">                                        \n",
    "                \n",
    "                <img src=\"\"/gruplac/images/chulo_0.jpg\"\" height=\"\"15px\"\" width=\"\"15px\"\">\n",
    "                \n",
    "            </td>                \n",
    "            <td class=\"\"celdas0\"\">                    \n",
    "                26.- <strong>Publicado en revista especializada:</strong> The Colombian Medical Oncologists Workforce<br>\n",
    "                Colombia, JOURNAL OF GLOBAL ONCOLOGY ISSN: 2378-9506, 2019 vol:5 fasc:  págs: 1 - 4, <strong>DOI:</strong>10.1200/JGO.19.00221\n",
    "                <br>\n",
    "                Autores: KELMAN HANAEL OJEDA RODRIGUEZ\n",
    "            </td>        \n",
    "        </tr> \n",
    "        \n",
    "        <tr>\n",
    "            <td class=\"\"celdas_1\"\" align=\"\"right\"\">                                        \n",
    "                \n",
    "                <img src=\"\"/gruplac/images/chulo_1.jpg\"\" height=\"\"15px\"\" width=\"\"15px\"\">\n",
    "                \n",
    "            </td>                \n",
    "            <td class=\"\"celdas1\"\">                    \n",
    "                27.- <strong>Publicado en revista especializada:</strong> Real World Treatment Outcomes of Patients with Acute Lymphoblastic Leukemia Treated with the PETHEMA ALLHR11 Protocol, Emphasis on Minimal Residual Disease and Survival<br>\n",
    "                , CLINICAL LYMPHOMA MYELOMA AND LEUKEMIA ISSN: 2152-2669, 2019 vol:19 fasc: 1 págs:  - , <strong>DOI:</strong>10.1016/j.clml.2019.07.048\n",
    "                <br>\n",
    "                Autores: JULIO CESAR SOLANO VEGA, MONICA AREVALO ZAMBRANO\n",
    "            </td>        \n",
    "        </tr> \n",
    "        \n",
    "        <tr>\n",
    "            <td class=\"\"celdas_0\"\" align=\"\"right\"\">                                        \n",
    "                \n",
    "                <img src=\"\"/gruplac/images/chulo_0.jpg\"\" height=\"\"15px\"\" width=\"\"15px\"\">\n",
    "                \n",
    "            </td>                \n",
    "            <td class=\"\"celdas0\"\">                    \n",
    "                28.- <strong>Publicado en revista especializada:</strong> Real World Data on the Efficacy and Safety of Ibrutinib in Relapsed/ Refractory Mantle Cell Lymphoma. Data collected from the Colombian Hematology Centers<br>\n",
    "                , CLINICAL LYMPHOMA MYELOMA AND LEUKEMIA ISSN: 2152-2669, 2019 vol:19 fasc: 1 págs:  - , <strong>DOI:</strong>10.1016/j.clml.2019.07.294\n",
    "                <br>\n",
    "                Autores: MONICA AREVALO ZAMBRANO, ORLANDO BONELL PATINO ESCOBAR, LEONARDO JOSE ENCISO OLIVERA, DIANA OTERO D DE LA HOZ, HUMBERTO MARTINEZ CORDERO, MARIA PAOLA SPIRKO SANCHEZ, VIRGINIA ABELLO POLO, CLAUDIA LUCIA SOSSA MELO, MONICA OSUNA PEREZ\n",
    "            </td>        \n",
    "        </tr> \n",
    "        \n",
    "        <tr>\n",
    "            <td class=\"\"celdas_1\"\" align=\"\"right\"\">                                        \n",
    "                \n",
    "                <img src=\"\"/gruplac/images/chulo_1.jpg\"\" height=\"\"15px\"\" width=\"\"15px\"\">\n",
    "                \n",
    "            </td>                \n",
    "            <td class=\"\"celdas1\"\">                    \n",
    "                29.- <strong>Publicado en revista especializada:</strong> Pre-Treatment Risk Assessment for Elderly Patients with Acute Myeloid Leukemia<br>\n",
    "                , CLINICAL LYMPHOMA MYELOMA AND LEUKEMIA ISSN: 2152-2669, 2019 vol:18 fasc: 1 págs:  - , <strong>DOI:</strong>10.1016/j.clml.2018.07.058\n",
    "                <br>\n",
    "                Autores: MONICA AREVALO ZAMBRANO, FRANCY LICET VILLAMIZAR GOMEZ, VIRGINIA ABELLO POLO, OLGA PAOLA OMANA ORDUZ\n",
    "            </td>        \n",
    "        </tr> \n",
    "        \n",
    "        <tr>\n",
    "            <td class=\"\"celdas_0\"\" align=\"\"right\"\">                                        \n",
    "                \n",
    "                <img src=\"\"/gruplac/images/chulo_0.jpg\"\" height=\"\"15px\"\" width=\"\"15px\"\">\n",
    "                \n",
    "            </td>                \n",
    "            <td class=\"\"celdas0\"\">                    \n",
    "                30.- <strong>Publicado en revista especializada:</strong> Role of RUNX2 transcription factor in epithelial mesenchymal transition in non-small cell lung cancer: Epigenetic control of the RUNX2 P1 promoter<br>\n",
    "                , TUMOR BIOLOGY ISSN: 1423-0380, 2019 vol:1 fasc:  págs: 1 - 13, <strong>DOI:</strong>\n",
    "                <br>\n",
    "                Autores: RICARDO ELIAS BRUGES MAYA\n",
    "            </td>        \n",
    "        </tr> \n",
    "        \n",
    "    </tbody>\"\"\"\n",
    "\n",
    "soup = BeautifulSoup(html_project, \"html.parser\")[1:]\n",
    "\n",
    "sample_table_rows = soup.find_all(\"tr\")[3]\n",
    "\n",
    "\n"
   ]
  },
  {
   "cell_type": "code",
   "execution_count": 2,
   "metadata": {},
   "outputs": [],
   "source": [
    "from bs4 import BeautifulSoup\n",
    "import pandas as pd\n",
    "\n",
    "html_project = \"\"\"\n",
    "\n",
    "\"<tbody><tr>\n",
    "            <td class=\"\"celdaEncabezado\"\" colspan=\"\"2\"\">Artículos publicados</td>\n",
    "        </tr>\n",
    "        \n",
    "        <tr>\n",
    "            <td class=\"\"celdas_1\"\" align=\"\"right\"\">                                        \n",
    "                \n",
    "            </td>                \n",
    "            <td class=\"\"celdas1\"\">                    \n",
    "                1.- <strong>Publicado en revista especializada:</strong> Tumor-to-Tumor Metastasis: Lung Adenocarcinoma as a Recipient of Metastasis from Renal Cell Carcinoma: A Case Report<br>\n",
    "                , AMERICAN JOURNAL OF CASE REPORTS ISSN: 1941-5923, 2021 vol:22 fasc: NA págs: e932012-1 - e932012-6, <strong>DOI:</strong>10.12659/AJCR.932012\n",
    "                <br>\n",
    "                Autores: RICARDO ELIAS BRUGES MAYA\n",
    "            </td>        \n",
    "        </tr> \n",
    "        \n",
    "        <tr>\n",
    "            <td class=\"\"celdas_0\"\" align=\"\"right\"\">                                        \n",
    "                \n",
    "                <img src=\"\"/gruplac/images/chulo_0.jpg\"\" height=\"\"15px\"\" width=\"\"15px\"\">\n",
    "                \n",
    "            </td>                \n",
    "            <td class=\"\"celdas0\"\">                    \n",
    "                2.- <strong>Caso clínico:</strong> Adult Wilms' Tumor: Case Report and Literature Review<br>\n",
    "                , Cureus ISSN: 2168-8184, 2021 vol:13 fasc:  págs: 1 - 5, <strong>DOI:</strong>\n",
    "                <br>\n",
    "                Autores: RICARDO ELIAS BRUGES MAYA\n",
    "            </td>        \n",
    "        </tr> \n",
    "        \n",
    "        <tr>\n",
    "            <td class=\"\"celdas_1\"\" align=\"\"right\"\">                                        \n",
    "                \n",
    "            </td>                \n",
    "            <td class=\"\"celdas1\"\">                    \n",
    "                3.- <strong>Publicado en revista especializada:</strong> High-risk human papillomavirus infection among women living with HIV in Latin America and the Caribbean: A systematic review and meta-analysis<br>\n",
    "                , INTERNATIONAL JOURNAL OF STD AND AIDS ISSN: 0956-4624, 2021 vol:0 fasc: N/A págs: 1 - 12, <strong>DOI:</strong>10.1177/09564624211037498\n",
    "                <br>\n",
    "                Autores: MARIA CAICEDO MARTINEZ, GINNA PAOLA FERNANDEZ DEAZA, CAMILA ORDONEZ REYES, RAUL HERNANDO MURILLO MORENO\n",
    "            </td>        \n",
    "        </tr> \n",
    "        \n",
    "        <tr>\n",
    "            <td class=\"\"celdas_0\"\" align=\"\"right\"\">                                        \n",
    "                \n",
    "            </td>                \n",
    "            <td class=\"\"celdas0\"\">                    \n",
    "                4.- <strong>Publicado en revista especializada:</strong> First-line nivolumab plus chemotherapy versus chemotherapy alone for advanced gastric, gastro-oesophageal junction, and oesophageal adenocarcinoma (CheckMate 649): a randomised, open-label, phase 3 trial<br>\n",
    "                , LANCET ISSN: 0140-6736, 2021 vol:398 fasc: NA págs: 27 - 40, <strong>DOI:</strong>10.1016/S0140-6736(21)00797-2\n",
    "                <br>\n",
    "                Autores: RICARDO ELIAS BRUGES MAYA\n",
    "            </td>        \n",
    "        </tr> \n",
    "        \n",
    "        <tr>\n",
    "            <td class=\"\"celdas_1\"\" align=\"\"right\"\">                                        \n",
    "                \n",
    "                <img src=\"\"/gruplac/images/chulo_1.jpg\"\" height=\"\"15px\"\" width=\"\"15px\"\">\n",
    "                \n",
    "            </td>                \n",
    "            <td class=\"\"celdas1\"\">                    \n",
    "                5.- <strong>Publicado en revista especializada:</strong> Impact of COVID-19 Infection on Patients with Cancer: Experience in a Latin American Country: The ACHOCC-19 Study<br>\n",
    "                , ONCOLOGIST ISSN: 1549-490X, 2021 vol:3 fasc: 26 págs: 1 - 13, <strong>DOI:</strong>10.1002/onco.13861\n",
    "                <br>\n",
    "                Autores: JULY ANDREA RUSSI NOGUERA\n",
    "            </td>        \n",
    "        </tr> \n",
    "        \n",
    "        <tr>\n",
    "            <td class=\"\"celdas_0\"\" align=\"\"right\"\">                                        \n",
    "                \n",
    "                <img src=\"\"/gruplac/images/chulo_0.jpg\"\" height=\"\"15px\"\" width=\"\"15px\"\">\n",
    "                \n",
    "            </td>                \n",
    "            <td class=\"\"celdas0\"\">                    \n",
    "                6.- <strong>Publicado en revista especializada:</strong> Radiation Oncology in Colombia: An Opportunity for Improvement in the Postconflict Era<br>\n",
    "                , INTERNATIONAL JOURNAL OF RADIATION ONCOLOGY BIOLOGY PHYSICS ISSN: 1879-355X, 2021 vol:109 fasc: 5 págs: 1142 - 1150, <strong>DOI:</strong>10.1016/j.ijrobp.2020.12.006\n",
    "                <br>\n",
    "                Autores: MARIA CAICEDO MARTINEZ, ALEJANDRO GONZALEZ MOTTA, OSCAR GAMBOA GARAY, RAUL HERNANDO MURILLO MORENO, CAROLINA WIESNER CEBALLOS\n",
    "            </td>        \n",
    "        </tr> \n",
    "        \n",
    "        <tr>\n",
    "            <td class=\"\"celdas_1\"\" align=\"\"right\"\">                                        \n",
    "                \n",
    "            </td>                \n",
    "            <td class=\"\"celdas1\"\">                    \n",
    "                7.- <strong>Publicado en revista especializada:</strong> Características de los pacientes con cáncer de pulmón de célula no pequeña en el Instituto Nacional de Cancerología de Bogotá<br>\n",
    "                , Revista Colombiana de Cancerologia ISSN: 0123-9015, 2021 vol:25 fasc:  págs: 103 - 109, <strong>DOI:</strong>\n",
    "                <br>\n",
    "                Autores: RICARDO ELIAS BRUGES MAYA\n",
    "            </td>        \n",
    "        </tr> \n",
    "        \n",
    "        <tr>\n",
    "            <td class=\"\"celdas_0\"\" align=\"\"right\"\">                                        \n",
    "                \n",
    "                <img src=\"\"/gruplac/images/chulo_0.jpg\"\" height=\"\"15px\"\" width=\"\"15px\"\">\n",
    "                \n",
    "            </td>                \n",
    "            <td class=\"\"celdas0\"\">                    \n",
    "                8.- <strong>Publicado en revista especializada:</strong> Impact of COVID-19 Infection on Patients with Cancer: Experience in a Latin American Country: The ACHOCC-19 Study<br>\n",
    "                , ONCOLOGIST ISSN: 1083-7159, 2021 vol:26 fasc:  págs: 1 - 13, <strong>DOI:</strong>\n",
    "                <br>\n",
    "                Autores: RICARDO ELIAS BRUGES MAYA\n",
    "            </td>        \n",
    "        </tr> \n",
    "        \n",
    "        <tr>\n",
    "            <td class=\"\"celdas_1\"\" align=\"\"right\"\">                                        \n",
    "                \n",
    "            </td>                \n",
    "            <td class=\"\"celdas1\"\">                    \n",
    "                9.- <strong>Publicado en revista especializada:</strong> Hormonoterapia en cáncer de mama metastásico. Revisión de la Evidencia y Abordaje Terapéutico en el Instituto Nacional de Cancerología, Bogotá - Colombia<br>\n",
    "                , Revista Colombiana de Cancerologia ISSN: 0123-9015, 2021 vol:25 fasc:  págs: 142 - 151, <strong>DOI:</strong>\n",
    "                <br>\n",
    "                Autores: RICARDO ELIAS BRUGES MAYA\n",
    "            </td>        \n",
    "        </tr> \n",
    "        \n",
    "        <tr>\n",
    "            <td class=\"\"celdas_0\"\" align=\"\"right\"\">                                        \n",
    "                \n",
    "            </td>                \n",
    "            <td class=\"\"celdas0\"\">                    \n",
    "                10.- <strong>Publicado en revista especializada:</strong> Manejo sistémico adyuvante en pacientes con cáncer de mama y enfermedad residual invasiva posterior a quimioterapia neoadyuvante. Actualización de la Evidencia y Abordaje Terapéutico en el Instituto Nacional de Cancerología, Bogotá-Colombia<br>\n",
    "                , Revista Colombiana de Cancerologia ISSN: 0123-9015, 2021 vol:25 fasc: 1 págs: 160 - 166, <strong>DOI:</strong>\n",
    "                <br>\n",
    "                Autores: RICARDO ELIAS BRUGES MAYA\n",
    "            </td>        \n",
    "        </tr> \n",
    "        \n",
    "        <tr>\n",
    "            <td class=\"\"celdas_1\"\" align=\"\"right\"\">                                        \n",
    "                \n",
    "                <img src=\"\"/gruplac/images/chulo_1.jpg\"\" height=\"\"15px\"\" width=\"\"15px\"\">\n",
    "                \n",
    "            </td>                \n",
    "            <td class=\"\"celdas1\"\">                    \n",
    "                11.- <strong>Revisión (Survey):</strong> Inestabilidad microsatelital y cáncer gástrico<br>\n",
    "                , Revista Colombiana de Cirugia ISSN: 0120-856X, 2021 vol:36 fasc:  págs: 120 - 131, <strong>DOI:</strong>10.30944/20117582.658\n",
    "                <br>\n",
    "                Autores: GABRIELA NEGRETE TOBAR, ALEJANDRO GONZALEZ MOTTA, OSCAR MESSA BOTERO, JUAN CARLOS GALVIS SERRANO, JULIANA PINEDA ORTEGA, NATALIA LONDONO DE VIVERO, RICARDO ELIAS BRUGES MAYA\n",
    "            </td>        \n",
    "        </tr> \n",
    "        \n",
    "        <tr>\n",
    "            <td class=\"\"celdas_0\"\" align=\"\"right\"\">                                        \n",
    "                \n",
    "                <img src=\"\"/gruplac/images/chulo_0.jpg\"\" height=\"\"15px\"\" width=\"\"15px\"\">\n",
    "                \n",
    "            </td>                \n",
    "            <td class=\"\"celdas0\"\">                    \n",
    "                12.- <strong>Publicado en revista especializada:</strong> Evaluación de errores de posicionamiento en los 6 grados de libertad en pacientes con cáncer de próstata tratados con radioterapia<br>\n",
    "                , UROLOGIA COLOMBIANA ISSN: 0120-789X, 2021 vol:30 fasc: 09 págs:  - , <strong>DOI:</strong>10.1055/s-0040-1714726\n",
    "                <br>\n",
    "                Autores: RICARDO ANTONIO SANCHEZ FORERO, PETER ALFONSO OLEJUA VILLA, RAUL HERNANDO MURILLO MORENO\n",
    "            </td>        \n",
    "        </tr> \n",
    "        \n",
    "        <tr>\n",
    "            <td class=\"\"celdas_1\"\" align=\"\"right\"\">                                        \n",
    "                \n",
    "            </td>                \n",
    "            <td class=\"\"celdas1\"\">                    \n",
    "                13.- <strong>Publicado en revista especializada:</strong> Hormonoterapia adyuvante en cáncer de mama. Revisión de la Evidencia y Abordaje Terapéutico en el Instituto Instituto Nacional de Cancerología, Bogotá, Colombia<br>\n",
    "                , Revista Colombiana de Cancerologia ISSN: 0123-9015, 2021 vol:25 fasc:  págs: 130 - 142, <strong>DOI:</strong>\n",
    "                <br>\n",
    "                Autores: RICARDO ELIAS BRUGES MAYA\n",
    "            </td>        \n",
    "        </tr> \n",
    "        \n",
    "        <tr>\n",
    "            <td class=\"\"celdas_0\"\" align=\"\"right\"\">                                        \n",
    "                \n",
    "                <img src=\"\"/gruplac/images/chulo_0.jpg\"\" height=\"\"15px\"\" width=\"\"15px\"\">\n",
    "                \n",
    "            </td>                \n",
    "            <td class=\"\"celdas0\"\">                    \n",
    "                14.- <strong>Publicado en revista especializada:</strong> Desafíos de los países con economías de bajo-a-mediano ingreso para el manejo del cáncer de próstata por la pandemia por COVID-19: La perspectiva del Oncólogo Radioterápico<br>\n",
    "                , REVISTA MEXICANA DE UROLOGIA ISSN: 0185-4542, 2020 vol:80 fasc:  págs: 1 - 14, <strong>DOI:</strong>10.48193/rmu.v80i4.663\n",
    "                <br>\n",
    "                Autores: MARIA CAICEDO MARTINEZ, ALEJANDRO GONZALEZ MOTTA, SEBASTIAN RAMIRO GIL QUINONES, JUAN CARLOS GALVIS SERRANO\n",
    "            </td>        \n",
    "        </tr> \n",
    "        \n",
    "        <tr>\n",
    "            <td class=\"\"celdas_1\"\" align=\"\"right\"\">                                        \n",
    "                \n",
    "                <img src=\"\"/gruplac/images/chulo_1.jpg\"\" height=\"\"15px\"\" width=\"\"15px\"\">\n",
    "                \n",
    "            </td>                \n",
    "            <td class=\"\"celdas1\"\">                    \n",
    "                15.- <strong>Publicado en revista especializada:</strong> In􀁿uence of Dose Intensity in Consolidation with HIDAC and Other Clinical and Biological Parameters in the Survival of AML.<br>\n",
    "                Estados Unidos, JOURNAL OF CANCER EPIDEMIOLOGY ISSN: 1687-8558, 2020 vol:2020 fasc: N/A págs: 1 - 7, <strong>DOI:</strong>10.1155/2020/8021095\n",
    "                <br>\n",
    "                Autores: JULIO CESAR SOLANO VEGA\n",
    "            </td>        \n",
    "        </tr> \n",
    "        \n",
    "        <tr>\n",
    "            <td class=\"\"celdas_0\"\" align=\"\"right\"\">                                        \n",
    "                \n",
    "                <img src=\"\"/gruplac/images/chulo_0.jpg\"\" height=\"\"15px\"\" width=\"\"15px\"\">\n",
    "                \n",
    "            </td>                \n",
    "            <td class=\"\"celdas0\"\">                    \n",
    "                16.- <strong>Publicado en revista especializada:</strong> Cervical Cancer Epidemiology, Prevention and Screening among Women Living with HIV in the Americas region: A Systematic Review Protocol<br>\n",
    "                , Universitas Médica ISSN: 0041-9095, 2020 vol:61 fasc: 4 págs: 1 - 8, <strong>DOI:</strong>10.11144/Javeriana.umed61-4.ccep\n",
    "                <br>\n",
    "                Autores: MARIA CAICEDO MARTINEZ, CAMILA ORDONEZ REYES, GINNA PAOLA FERNANDEZ DEAZA, RAUL HERNANDO MURILLO MORENO\n",
    "            </td>        \n",
    "        </tr> \n",
    "        \n",
    "        <tr>\n",
    "            <td class=\"\"celdas_1\"\" align=\"\"right\"\">                                        \n",
    "                \n",
    "                <img src=\"\"/gruplac/images/chulo_1.jpg\"\" height=\"\"15px\"\" width=\"\"15px\"\">\n",
    "                \n",
    "            </td>                \n",
    "            <td class=\"\"celdas1\"\">                    \n",
    "                17.- <strong>Publicado en revista especializada:</strong> Influence of Dose Intensity in Consolidation with HIDAC and Other Clinical and Biological Parameters in the Survival of AML<br>\n",
    "                , JOURNAL OF CANCER EPIDEMIOLOGY ISSN: 1687-8566, 2020 vol:2020 fasc: NA págs:  - , <strong>DOI:</strong>10.1155/2020/8021095\n",
    "                <br>\n",
    "                Autores: MONICA AREVALO ZAMBRANO, JULIO CESAR SOLANO VEGA, RICARDO ANDRES BALLESTEROS RAMIREZ, SUSANA FIORENTINO GOMEZ, RAUL HERNANDO MURILLO MORENO\n",
    "            </td>        \n",
    "        </tr> \n",
    "        \n",
    "        <tr>\n",
    "            <td class=\"\"celdas_0\"\" align=\"\"right\"\">                                        \n",
    "                \n",
    "                <img src=\"\"/gruplac/images/chulo_0.jpg\"\" height=\"\"15px\"\" width=\"\"15px\"\">\n",
    "                \n",
    "            </td>                \n",
    "            <td class=\"\"celdas0\"\">                    \n",
    "                18.- <strong>Publicado en revista especializada:</strong> Perspectivas de pacientes y profesionales en torno al uso de medicinas alternativas y complementarias para el cuidado del cáncer: un estudio exploratorio<br>\n",
    "                , Universitas Médica ISSN: 0041-9095, 2020 vol:62 fasc: 1 págs: 1 - 12, <strong>DOI:</strong>10.11144/javeriana.umed62-1.pppu.\n",
    "                <br>\n",
    "                Autores: MARIA DEL PILAR GARCIA PADILLA, CAMILA ORDONEZ REYES, PAOLA ANDREA MEDINA MUNOZ, GINNA PAOLA FERNANDEZ DEAZA, OLGA LUCIA MORALES MESA, RAUL HERNANDO MURILLO MORENO\n",
    "            </td>        \n",
    "        </tr> \n",
    "        \n",
    "        <tr>\n",
    "            <td class=\"\"celdas_1\"\" align=\"\"right\"\">                                        \n",
    "                \n",
    "                <img src=\"\"/gruplac/images/chulo_1.jpg\"\" height=\"\"15px\"\" width=\"\"15px\"\">\n",
    "                \n",
    "            </td>                \n",
    "            <td class=\"\"celdas1\"\">                    \n",
    "                19.- <strong>Revisión (Survey):</strong> Recomendaciones nacionales para el estudio y tratamiento del cáncer de pulmón durante la contingencia causada por COVID-19 en Colombia<br>\n",
    "                , Revista Colombiana De Neumología ISSN: 0121-5426, 2020 vol:32 fasc:  págs: 68 - 77, <strong>DOI:</strong>\n",
    "                <br>\n",
    "                Autores: RICARDO ELIAS BRUGES MAYA\n",
    "            </td>        \n",
    "        </tr> \n",
    "        \n",
    "        <tr>\n",
    "            <td class=\"\"celdas_0\"\" align=\"\"right\"\">                                        \n",
    "                \n",
    "                <img src=\"\"/gruplac/images/chulo_0.jpg\"\" height=\"\"15px\"\" width=\"\"15px\"\">\n",
    "                \n",
    "            </td>                \n",
    "            <td class=\"\"celdas0\"\">                    \n",
    "                20.- <strong>Publicado en revista especializada:</strong> Installing oncofertility programs for common cancers in limited resource settings<br>\n",
    "                Estados Unidos, JOURNAL OF ASSISTED REPRODUCTION AND GENETICS ISSN: 1058-0468, 2020 vol:31 fasc: N/A págs: 1567 - 1577, <strong>DOI:</strong>10.1007/s10815-020-01821-7\n",
    "                <br>\n",
    "                Autores: JULY ANDREA RUSSI NOGUERA\n",
    "            </td>        \n",
    "        </tr> \n",
    "        \n",
    "        <tr>\n",
    "            <td class=\"\"celdas_1\"\" align=\"\"right\"\">                                        \n",
    "                \n",
    "                <img src=\"\"/gruplac/images/chulo_1.jpg\"\" height=\"\"15px\"\" width=\"\"15px\"\">\n",
    "                \n",
    "            </td>                \n",
    "            <td class=\"\"celdas1\"\">                    \n",
    "                21.- <strong>Publicado en revista especializada:</strong> CD38: From Positive to Negative Expression After Daratumumab Treatment. Case Report<br>\n",
    "                , Cureus ISSN: 2168-8184, 2020 vol:12 fasc: 4 págs:  - , <strong>DOI:</strong>10.7759/cureus.7627\n",
    "                <br>\n",
    "                Autores: ORLANDO BONELL PATINO ESCOBAR, MONICA AREVALO ZAMBRANO, MAXIMO LINARES PATINO, JUAN SEBASTIAN ALCALA LARA\n",
    "            </td>        \n",
    "        </tr> \n",
    "        \n",
    "        <tr>\n",
    "            <td class=\"\"celdas_0\"\" align=\"\"right\"\">                                        \n",
    "                \n",
    "                <img src=\"\"/gruplac/images/chulo_0.jpg\"\" height=\"\"15px\"\" width=\"\"15px\"\">\n",
    "                \n",
    "            </td>                \n",
    "            <td class=\"\"celdas0\"\">                    \n",
    "                22.- <strong>Publicado en revista especializada:</strong> Barriers and Opportunities of Oncofertility Practice in Nine Developing Countries and the Emerging Oncofertility Professional Engagement Network<br>\n",
    "                Estados Unidos, JCO PRECISION ONCOLOGY ISSN: 2473-4284, 2020 vol:2 fasc:  págs: 369 - 374, <strong>DOI:</strong>10.1200/JGO.18.00180\n",
    "                <br>\n",
    "                Autores: JULY ANDREA RUSSI NOGUERA\n",
    "            </td>        \n",
    "        </tr> \n",
    "        \n",
    "        <tr>\n",
    "            <td class=\"\"celdas_1\"\" align=\"\"right\"\">                                        \n",
    "                \n",
    "                <img src=\"\"/gruplac/images/chulo_1.jpg\"\" height=\"\"15px\"\" width=\"\"15px\"\">\n",
    "                \n",
    "            </td>                \n",
    "            <td class=\"\"celdas1\"\">                    \n",
    "                23.- <strong>Publicado en revista especializada:</strong> Radiation Oncology Workforce in Colombia<br>\n",
    "                , JOURNAL OF GLOBAL ONCOLOGY ISSN: 2378-9506, 2020 vol:6 fasc: NA págs:  - , <strong>DOI:</strong>10.1200/JGO.19.00195.\n",
    "                <br>\n",
    "                Autores: RAUL HERNANDO MURILLO MORENO, RICARDO ANTONIO SANCHEZ FORERO\n",
    "            </td>        \n",
    "        </tr> \n",
    "        \n",
    "        <tr>\n",
    "            <td class=\"\"celdas_0\"\" align=\"\"right\"\">                                        \n",
    "                \n",
    "                <img src=\"\"/gruplac/images/chulo_0.jpg\"\" height=\"\"15px\"\" width=\"\"15px\"\">\n",
    "                \n",
    "            </td>                \n",
    "            <td class=\"\"celdas0\"\">                    \n",
    "                24.- <strong>Publicado en revista especializada:</strong> Experiencia en el tratamiento del carcinoma basocelular localmente avanzado o metastásico con Vismodegib en el Instituto Nacional de Cancerología entre los años 2014 y 2015<br>\n",
    "                Argentina, Revista Argentina de Dermatologia ISSN: 1851-300X, 2020 vol:101 fasc: 2 págs: 1 - 15, <strong>DOI:</strong>\n",
    "                <br>\n",
    "                Autores: KELMAN HANAEL OJEDA RODRIGUEZ\n",
    "            </td>        \n",
    "        </tr> \n",
    "        \n",
    "        <tr>\n",
    "            <td class=\"\"celdas_1\"\" align=\"\"right\"\">                                        \n",
    "                \n",
    "                <img src=\"\"/gruplac/images/chulo_1.jpg\"\" height=\"\"15px\"\" width=\"\"15px\"\">\n",
    "                \n",
    "            </td>                \n",
    "            <td class=\"\"celdas1\"\">                    \n",
    "                25.- <strong>Publicado en revista especializada:</strong> Brentuximab Vedotin As Consolidation Therapy Post Hematopoietic Stem Cell Transplantation for Patients with Relapsed or Refractory Hodgkin Lymphoma: A Real World Analysis of the Colombian Experience | Blood | American Society of Hematology<br>\n",
    "                , BLOOD ISSN: 1528-0020, 2019 vol:134 fasc: 1 págs:  - , <strong>DOI:</strong>10.1182/blood-2019-129295\n",
    "                <br>\n",
    "                Autores: MONICA AREVALO ZAMBRANO, ORLANDO BONELL PATINO ESCOBAR, LEONARDO JOSE ENCISO OLIVERA, HUMBERTO MARTINEZ CORDERO, JULIO CESAR SOLANO VEGA, OLGA PAOLA OMANA ORDUZ, ULRIKE HEIDER, ALEJANDRO RUIZ PATINO, MARIA PAOLA SPIRKO SANCHEZ, CLAUDIA MARCELA CHALELA GIL, DIANA OTERO D DE LA HOZ, CLAUDIA LUCIA SOSSA MELO, VIRGINIA ABELLO POLO, MONICA OSUNA PEREZ, AMADO JOSE KARDUSS URUETA\n",
    "            </td>        \n",
    "        </tr> \n",
    "        \n",
    "        <tr>\n",
    "            <td class=\"\"celdas_0\"\" align=\"\"right\"\">                                        \n",
    "                \n",
    "                <img src=\"\"/gruplac/images/chulo_0.jpg\"\" height=\"\"15px\"\" width=\"\"15px\"\">\n",
    "                \n",
    "            </td>                \n",
    "            <td class=\"\"celdas0\"\">                    \n",
    "                26.- <strong>Publicado en revista especializada:</strong> The Colombian Medical Oncologists Workforce<br>\n",
    "                Colombia, JOURNAL OF GLOBAL ONCOLOGY ISSN: 2378-9506, 2019 vol:5 fasc:  págs: 1 - 4, <strong>DOI:</strong>10.1200/JGO.19.00221\n",
    "                <br>\n",
    "                Autores: KELMAN HANAEL OJEDA RODRIGUEZ\n",
    "            </td>        \n",
    "        </tr> \n",
    "        \n",
    "        <tr>\n",
    "            <td class=\"\"celdas_1\"\" align=\"\"right\"\">                                        \n",
    "                \n",
    "                <img src=\"\"/gruplac/images/chulo_1.jpg\"\" height=\"\"15px\"\" width=\"\"15px\"\">\n",
    "                \n",
    "            </td>                \n",
    "            <td class=\"\"celdas1\"\">                    \n",
    "                27.- <strong>Publicado en revista especializada:</strong> Real World Treatment Outcomes of Patients with Acute Lymphoblastic Leukemia Treated with the PETHEMA ALLHR11 Protocol, Emphasis on Minimal Residual Disease and Survival<br>\n",
    "                , CLINICAL LYMPHOMA MYELOMA AND LEUKEMIA ISSN: 2152-2669, 2019 vol:19 fasc: 1 págs:  - , <strong>DOI:</strong>10.1016/j.clml.2019.07.048\n",
    "                <br>\n",
    "                Autores: JULIO CESAR SOLANO VEGA, MONICA AREVALO ZAMBRANO\n",
    "            </td>        \n",
    "        </tr> \n",
    "        \n",
    "        <tr>\n",
    "            <td class=\"\"celdas_0\"\" align=\"\"right\"\">                                        \n",
    "                \n",
    "                <img src=\"\"/gruplac/images/chulo_0.jpg\"\" height=\"\"15px\"\" width=\"\"15px\"\">\n",
    "                \n",
    "            </td>                \n",
    "            <td class=\"\"celdas0\"\">                    \n",
    "                28.- <strong>Publicado en revista especializada:</strong> Real World Data on the Efficacy and Safety of Ibrutinib in Relapsed/ Refractory Mantle Cell Lymphoma. Data collected from the Colombian Hematology Centers<br>\n",
    "                , CLINICAL LYMPHOMA MYELOMA AND LEUKEMIA ISSN: 2152-2669, 2019 vol:19 fasc: 1 págs:  - , <strong>DOI:</strong>10.1016/j.clml.2019.07.294\n",
    "                <br>\n",
    "                Autores: MONICA AREVALO ZAMBRANO, ORLANDO BONELL PATINO ESCOBAR, LEONARDO JOSE ENCISO OLIVERA, DIANA OTERO D DE LA HOZ, HUMBERTO MARTINEZ CORDERO, MARIA PAOLA SPIRKO SANCHEZ, VIRGINIA ABELLO POLO, CLAUDIA LUCIA SOSSA MELO, MONICA OSUNA PEREZ\n",
    "            </td>        \n",
    "        </tr> \n",
    "        \n",
    "        <tr>\n",
    "            <td class=\"\"celdas_1\"\" align=\"\"right\"\">                                        \n",
    "                \n",
    "                <img src=\"\"/gruplac/images/chulo_1.jpg\"\" height=\"\"15px\"\" width=\"\"15px\"\">\n",
    "                \n",
    "            </td>                \n",
    "            <td class=\"\"celdas1\"\">                    \n",
    "                29.- <strong>Publicado en revista especializada:</strong> Pre-Treatment Risk Assessment for Elderly Patients with Acute Myeloid Leukemia<br>\n",
    "                , CLINICAL LYMPHOMA MYELOMA AND LEUKEMIA ISSN: 2152-2669, 2019 vol:18 fasc: 1 págs:  - , <strong>DOI:</strong>10.1016/j.clml.2018.07.058\n",
    "                <br>\n",
    "                Autores: MONICA AREVALO ZAMBRANO, FRANCY LICET VILLAMIZAR GOMEZ, VIRGINIA ABELLO POLO, OLGA PAOLA OMANA ORDUZ\n",
    "            </td>        \n",
    "        </tr> \n",
    "        \n",
    "        <tr>\n",
    "            <td class=\"\"celdas_0\"\" align=\"\"right\"\">                                        \n",
    "                \n",
    "                <img src=\"\"/gruplac/images/chulo_0.jpg\"\" height=\"\"15px\"\" width=\"\"15px\"\">\n",
    "                \n",
    "            </td>                \n",
    "            <td class=\"\"celdas0\"\">                    \n",
    "                30.- <strong>Publicado en revista especializada:</strong> Role of RUNX2 transcription factor in epithelial mesenchymal transition in non-small cell lung cancer: Epigenetic control of the RUNX2 P1 promoter<br>\n",
    "                , TUMOR BIOLOGY ISSN: 1423-0380, 2019 vol:1 fasc:  págs: 1 - 13, <strong>DOI:</strong>\n",
    "                <br>\n",
    "                Autores: RICARDO ELIAS BRUGES MAYA\n",
    "            </td>        \n",
    "        </tr> \n",
    "        \n",
    "    </tbody>\"\"\"\n",
    "\n",
    "soup = BeautifulSoup(html_project, \"html.parser\")\n",
    "\n",
    "table_rows = soup.find_all(\"tr\")[1:]\n",
    "\n",
    "sample_row = table_rows[3]\n",
    "\n",
    "\n",
    "\n",
    "\n"
   ]
  },
  {
   "cell_type": "code",
   "execution_count": 3,
   "metadata": {},
   "outputs": [
    {
     "data": {
      "text/plain": [
       "<br/>"
      ]
     },
     "execution_count": 3,
     "metadata": {},
     "output_type": "execute_result"
    }
   ],
   "source": [
    "sample_row.br"
   ]
  },
  {
   "cell_type": "code",
   "execution_count": 4,
   "metadata": {},
   "outputs": [
    {
     "data": {
      "text/plain": [
       "''"
      ]
     },
     "execution_count": 4,
     "metadata": {},
     "output_type": "execute_result"
    }
   ],
   "source": [
    "sample_row.br.text"
   ]
  },
  {
   "cell_type": "code",
   "execution_count": 5,
   "metadata": {},
   "outputs": [
    {
     "data": {
      "text/plain": [
       "'\\n                , LANCET ISSN: 0140-6736, 2021 vol:398 fasc: NA págs: 27 - 40, '"
      ]
     },
     "execution_count": 5,
     "metadata": {},
     "output_type": "execute_result"
    }
   ],
   "source": [
    "sample_row.br.next_sibling"
   ]
  },
  {
   "cell_type": "code",
   "execution_count": 6,
   "metadata": {},
   "outputs": [],
   "source": [
    "second_sample_row = table_rows[6]"
   ]
  },
  {
   "cell_type": "code",
   "execution_count": 7,
   "metadata": {},
   "outputs": [
    {
     "data": {
      "text/plain": [
       "'\\n'"
      ]
     },
     "execution_count": 7,
     "metadata": {},
     "output_type": "execute_result"
    }
   ],
   "source": [
    "second_sample_row.next_sibling"
   ]
  },
  {
   "cell_type": "code",
   "execution_count": 8,
   "metadata": {},
   "outputs": [
    {
     "name": "stdout",
     "output_type": "stream",
     "text": [
      "<tr>\n",
      "<td align=\"\" celdas_1\"\"=\"\" class=\"\" right\"\"=\"\">\n",
      "</td>\n",
      "<td celdas1\"\"=\"\" class=\"\">                    \n",
      "                7.- <strong>Publicado en revista especializada:</strong> Características de los pacientes con cáncer de pulmón de célula no pequeña en el Instituto Nacional de Cancerología de Bogotá<br/>\n",
      "                , Revista Colombiana de Cancerologia ISSN: 0123-9015, 2021 vol:25 fasc:  págs: 103 - 109, <strong>DOI:</strong>\n",
      "<br/>\n",
      "                Autores: RICARDO ELIAS BRUGES MAYA\n",
      "            </td>\n",
      "</tr>\n"
     ]
    }
   ],
   "source": [
    "print(second_sample_row)"
   ]
  },
  {
   "cell_type": "code",
   "execution_count": 9,
   "metadata": {},
   "outputs": [
    {
     "data": {
      "text/plain": [
       "'\\n                , Revista Colombiana de Cancerologia ISSN: 0123-9015, 2021 vol:25 fasc:  págs: 103 - 109, '"
      ]
     },
     "execution_count": 9,
     "metadata": {},
     "output_type": "execute_result"
    }
   ],
   "source": [
    "second_sample_row.br.next_sibling"
   ]
  },
  {
   "cell_type": "code",
   "execution_count": 10,
   "metadata": {},
   "outputs": [],
   "source": [
    "line = second_sample_row.br.next_sibling.split(',')"
   ]
  },
  {
   "cell_type": "code",
   "execution_count": 11,
   "metadata": {},
   "outputs": [
    {
     "name": "stdout",
     "output_type": "stream",
     "text": [
      "['\\n                ', ' Revista Colombiana de Cancerologia ISSN: 0123-9015', ' 2021 vol:25 fasc:  págs: 103 - 109', ' ']\n"
     ]
    }
   ],
   "source": [
    "print(line)"
   ]
  },
  {
   "cell_type": "code",
   "execution_count": 12,
   "metadata": {},
   "outputs": [],
   "source": [
    "line = second_sample_row.br.next_sibling.strip().split(',')"
   ]
  },
  {
   "cell_type": "code",
   "execution_count": 13,
   "metadata": {},
   "outputs": [
    {
     "name": "stdout",
     "output_type": "stream",
     "text": [
      "['', ' Revista Colombiana de Cancerologia ISSN: 0123-9015', ' 2021 vol:25 fasc:  págs: 103 - 109', '']\n"
     ]
    }
   ],
   "source": [
    "print(line)"
   ]
  },
  {
   "cell_type": "code",
   "execution_count": 14,
   "metadata": {},
   "outputs": [],
   "source": [
    "revista_y_issn = line[1]"
   ]
  },
  {
   "cell_type": "code",
   "execution_count": 15,
   "metadata": {},
   "outputs": [
    {
     "name": "stdout",
     "output_type": "stream",
     "text": [
      " Revista Colombiana de Cancerologia ISSN: 0123-9015\n"
     ]
    }
   ],
   "source": [
    "print(revista_y_issn)"
   ]
  },
  {
   "cell_type": "code",
   "execution_count": 16,
   "metadata": {},
   "outputs": [
    {
     "data": {
      "text/plain": [
       "36"
      ]
     },
     "execution_count": 16,
     "metadata": {},
     "output_type": "execute_result"
    }
   ],
   "source": [
    "revista_y_issn.find(\"ISSN:\")"
   ]
  },
  {
   "cell_type": "code",
   "execution_count": 17,
   "metadata": {},
   "outputs": [
    {
     "name": "stdout",
     "output_type": "stream",
     "text": [
      "I\n"
     ]
    }
   ],
   "source": [
    "print(revista_y_issn[36])"
   ]
  },
  {
   "cell_type": "code",
   "execution_count": 18,
   "metadata": {},
   "outputs": [],
   "source": [
    "issn_position = revista_y_issn.find(\"ISSN:\")"
   ]
  },
  {
   "cell_type": "code",
   "execution_count": 19,
   "metadata": {},
   "outputs": [],
   "source": [
    "nombre_revista, issn = revista_y_issn[:issn_position],revista_y_issn[issn_position:]"
   ]
  },
  {
   "cell_type": "code",
   "execution_count": 20,
   "metadata": {},
   "outputs": [
    {
     "name": "stdout",
     "output_type": "stream",
     "text": [
      " Revista Colombiana de Cancerologia  \n",
      " ISSN: 0123-9015\n"
     ]
    }
   ],
   "source": [
    "print(nombre_revista, '\\n', issn)"
   ]
  },
  {
   "cell_type": "code",
   "execution_count": 21,
   "metadata": {},
   "outputs": [
    {
     "data": {
      "text/plain": [
       "<strong>DOI:</strong>"
      ]
     },
     "execution_count": 21,
     "metadata": {},
     "output_type": "execute_result"
    }
   ],
   "source": [
    "second_sample_row.find_all(\"strong\")[1]"
   ]
  },
  {
   "cell_type": "code",
   "execution_count": 22,
   "metadata": {},
   "outputs": [
    {
     "data": {
      "text/plain": [
       "'\\n'"
      ]
     },
     "execution_count": 22,
     "metadata": {},
     "output_type": "execute_result"
    }
   ],
   "source": [
    "second_sample_row.find_all(\"strong\")[1].next_sibling"
   ]
  },
  {
   "cell_type": "code",
   "execution_count": 23,
   "metadata": {},
   "outputs": [],
   "source": [
    "second_strong_tag = second_sample_row.find_all(\"strong\")[1]"
   ]
  },
  {
   "cell_type": "code",
   "execution_count": 24,
   "metadata": {},
   "outputs": [
    {
     "data": {
      "text/plain": [
       "'\\n'"
      ]
     },
     "execution_count": 24,
     "metadata": {},
     "output_type": "execute_result"
    }
   ],
   "source": [
    "second_strong_tag.next_sibling"
   ]
  },
  {
   "cell_type": "code",
   "execution_count": 25,
   "metadata": {},
   "outputs": [
    {
     "data": {
      "text/plain": [
       "<tr>\n",
       "<td align=\"\" celdas_1\"\"=\"\" class=\"\" right\"\"=\"\">\n",
       "</td>\n",
       "<td celdas1\"\"=\"\" class=\"\">                    \n",
       "                7.- <strong>Publicado en revista especializada:</strong> Características de los pacientes con cáncer de pulmón de célula no pequeña en el Instituto Nacional de Cancerología de Bogotá<br/>\n",
       "                , Revista Colombiana de Cancerologia ISSN: 0123-9015, 2021 vol:25 fasc:  págs: 103 - 109, <strong>DOI:</strong>\n",
       "<br/>\n",
       "                Autores: RICARDO ELIAS BRUGES MAYA\n",
       "            </td>\n",
       "</tr>"
      ]
     },
     "execution_count": 25,
     "metadata": {},
     "output_type": "execute_result"
    }
   ],
   "source": [
    "second_sample_row"
   ]
  },
  {
   "cell_type": "code",
   "execution_count": 26,
   "metadata": {},
   "outputs": [
    {
     "data": {
      "text/plain": [
       "<tr>\n",
       "<td align=\"\" celdas_0\"\"=\"\" class=\"\" right\"\"=\"\">\n",
       "</td>\n",
       "<td celdas0\"\"=\"\" class=\"\">                    \n",
       "                4.- <strong>Publicado en revista especializada:</strong> First-line nivolumab plus chemotherapy versus chemotherapy alone for advanced gastric, gastro-oesophageal junction, and oesophageal adenocarcinoma (CheckMate 649): a randomised, open-label, phase 3 trial<br/>\n",
       "                , LANCET ISSN: 0140-6736, 2021 vol:398 fasc: NA págs: 27 - 40, <strong>DOI:</strong>10.1016/S0140-6736(21)00797-2\n",
       "                <br/>\n",
       "                Autores: RICARDO ELIAS BRUGES MAYA\n",
       "            </td>\n",
       "</tr>"
      ]
     },
     "execution_count": 26,
     "metadata": {},
     "output_type": "execute_result"
    }
   ],
   "source": [
    "sample_row"
   ]
  },
  {
   "cell_type": "code",
   "execution_count": 27,
   "metadata": {},
   "outputs": [
    {
     "data": {
      "text/plain": [
       "'10.1016/S0140-6736(21)00797-2\\n                '"
      ]
     },
     "execution_count": 27,
     "metadata": {},
     "output_type": "execute_result"
    }
   ],
   "source": [
    "sample_row.find_all(\"strong\")[1].next_sibling"
   ]
  },
  {
   "cell_type": "code",
   "execution_count": 28,
   "metadata": {},
   "outputs": [
    {
     "data": {
      "text/plain": [
       "<br/>"
      ]
     },
     "execution_count": 28,
     "metadata": {},
     "output_type": "execute_result"
    }
   ],
   "source": [
    "sample_row.br"
   ]
  },
  {
   "cell_type": "code",
   "execution_count": 29,
   "metadata": {},
   "outputs": [
    {
     "data": {
      "text/plain": [
       "'\\n                , LANCET ISSN: 0140-6736, 2021 vol:398 fasc: NA págs: 27 - 40, '"
      ]
     },
     "execution_count": 29,
     "metadata": {},
     "output_type": "execute_result"
    }
   ],
   "source": [
    "sample_row.br.next_sibling"
   ]
  },
  {
   "cell_type": "code",
   "execution_count": 30,
   "metadata": {},
   "outputs": [
    {
     "data": {
      "text/plain": [
       "['']"
      ]
     },
     "execution_count": 30,
     "metadata": {},
     "output_type": "execute_result"
    }
   ],
   "source": [
    "sample_row.next_sibling.strip().split(',')"
   ]
  },
  {
   "cell_type": "code",
   "execution_count": 31,
   "metadata": {},
   "outputs": [],
   "source": [
    "line = sample_row.next_sibling.strip().split(',')"
   ]
  },
  {
   "cell_type": "code",
   "execution_count": 32,
   "metadata": {},
   "outputs": [
    {
     "name": "stdout",
     "output_type": "stream",
     "text": [
      "['']\n"
     ]
    }
   ],
   "source": [
    "print(line)"
   ]
  },
  {
   "cell_type": "code",
   "execution_count": 33,
   "metadata": {},
   "outputs": [],
   "source": [
    "line = sample_row.next_sibling.split(',')"
   ]
  },
  {
   "cell_type": "code",
   "execution_count": 34,
   "metadata": {},
   "outputs": [
    {
     "name": "stdout",
     "output_type": "stream",
     "text": [
      "['\\n']\n"
     ]
    }
   ],
   "source": [
    "print(line)"
   ]
  },
  {
   "cell_type": "code",
   "execution_count": 35,
   "metadata": {},
   "outputs": [
    {
     "name": "stdout",
     "output_type": "stream",
     "text": [
      "['', ' LANCET ISSN: 0140-6736', ' 2021 vol:398 fasc: NA págs: 27 - 40', '']\n"
     ]
    }
   ],
   "source": [
    "line = sample_row.br.next_sibling.strip().split(',')\n",
    "print(line)"
   ]
  },
  {
   "cell_type": "code",
   "execution_count": 36,
   "metadata": {},
   "outputs": [],
   "source": [
    "anio = line[2].strip().split(\" \")"
   ]
  },
  {
   "cell_type": "code",
   "execution_count": 37,
   "metadata": {},
   "outputs": [
    {
     "name": "stdout",
     "output_type": "stream",
     "text": [
      "['2021', 'vol:398', 'fasc:', 'NA', 'págs:', '27', '-', '40']\n"
     ]
    }
   ],
   "source": [
    "print(anio)"
   ]
  },
  {
   "cell_type": "code",
   "execution_count": 38,
   "metadata": {},
   "outputs": [],
   "source": [
    "anio = line[2].strip().split(\" \")[0]"
   ]
  },
  {
   "cell_type": "code",
   "execution_count": 39,
   "metadata": {},
   "outputs": [
    {
     "name": "stdout",
     "output_type": "stream",
     "text": [
      "2021\n"
     ]
    }
   ],
   "source": [
    "print(anio)"
   ]
  },
  {
   "cell_type": "markdown",
   "metadata": {},
   "source": [
    "No kernel connected"
   ]
  }
 ],
 "metadata": {
  "kernelspec": {
   "display_name": "Dir_Investigacion",
   "language": "python",
   "name": "python3"
  },
  "language_info": {
   "codemirror_mode": {
    "name": "ipython",
    "version": 3
   },
   "file_extension": ".py",
   "mimetype": "text/x-python",
   "name": "python",
   "nbconvert_exporter": "python",
   "pygments_lexer": "ipython3",
   "version": "3.9.18"
  }
 },
 "nbformat": 4,
 "nbformat_minor": 2
}
