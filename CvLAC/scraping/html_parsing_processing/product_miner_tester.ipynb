{
 "cells": [
  {
   "metadata": {},
   "cell_type": "markdown",
   "source": [
    "# Testing Notebook for Cvlac Product Miner.\n",
    "- Author: David Santiago Barreto Mora\n",
    "- Last updated: 14/01/2024\n",
    "\n",
    "---\n"
   ],
   "id": "b7c7f87d70ec49e5"
  },
  {
   "metadata": {},
   "cell_type": "code",
   "outputs": [],
   "execution_count": null,
   "source": [
    "# Import Python libraries\n",
    "from typing import List, NamedTuple\n",
    "from enum import Enum\n",
    "import traceback\n"
   ],
   "id": "1c4063a74142d3ed"
  },
  {
   "metadata": {},
   "cell_type": "code",
   "outputs": [],
   "execution_count": null,
   "source": [
    "# Import third party modules\n",
    "from bs4 import BeautifulSoup\n",
    "# import knime.scripting.io as knio\n"
   ],
   "id": "aa38d1777d94aa5e"
  },
  {
   "metadata": {},
   "cell_type": "code",
   "outputs": [],
   "execution_count": null,
   "source": [
    "# Definition of Table type Enum\n",
    "class TableType(Enum):\n",
    "    NESTED_TABLES = \"Self contained product. Product information is inside nested tables.\"\n",
    "    BLOCKQUOTE_PRODUCTS = \"Self contained product. All product information inside Blockquote\"\n",
    "    SUBTYPE_AS_LIST_ITEM = \"Scattered information. Subtype is in <li> tag.\"\n",
    "    SUBTYPE_AS_EMPTY_LIST_ITEM= \"Scattered information. Subtype should be in <li> tag, but the tag is empty.\"\n",
    "    SUBTYPE_AS_BOLD_TAG = \"Scattered information. Subtype is in <b> tag.\"\n"
   ],
   "id": "d04a18fb6fd0bbeb"
  }
 ],
 "metadata": {
  "kernelspec": {
   "display_name": "Python 3",
   "language": "python",
   "name": "python3"
  },
  "language_info": {
   "codemirror_mode": {
    "name": "ipython",
    "version": 2
   },
   "file_extension": ".py",
   "mimetype": "text/x-python",
   "name": "python",
   "nbconvert_exporter": "python",
   "pygments_lexer": "ipython2",
   "version": "2.7.6"
  }
 },
 "nbformat": 4,
 "nbformat_minor": 5
}
