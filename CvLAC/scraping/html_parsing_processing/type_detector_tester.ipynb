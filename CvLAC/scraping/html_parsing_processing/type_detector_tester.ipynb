{
 "cells": [
  {
   "metadata": {},
   "cell_type": "markdown",
   "source": [
    "# Testing Notebook for Cvlac Page Type Detection.\n",
    "- Author: David Santiago Barreto Mora\n",
    "- Last updated: 08/01/2024\n",
    "\n",
    "---"
   ],
   "id": "35dc860c1ebde41b"
  },
  {
   "metadata": {
    "ExecuteTime": {
     "end_time": "2025-01-08T22:59:11.852161Z",
     "start_time": "2025-01-08T22:59:11.833563Z"
    }
   },
   "cell_type": "code",
   "source": [
    "# Import Python libraries\n",
    "from typing import List, NamedTuple\n",
    "from enum import Enum\n",
    "import traceback"
   ],
   "id": "1c0dea21c0fe4bb8",
   "outputs": [],
   "execution_count": 74
  },
  {
   "metadata": {
    "ExecuteTime": {
     "end_time": "2025-01-08T22:59:11.882571Z",
     "start_time": "2025-01-08T22:59:11.866670Z"
    }
   },
   "cell_type": "code",
   "source": [
    "# Import third party modules\n",
    "from bs4 import BeautifulSoup\n",
    "# import knime.scripting.io as knio"
   ],
   "id": "2c7e08ea28d9a213",
   "outputs": [],
   "execution_count": 75
  },
  {
   "metadata": {
    "ExecuteTime": {
     "end_time": "2025-01-08T22:59:11.913728Z",
     "start_time": "2025-01-08T22:59:11.899617Z"
    }
   },
   "cell_type": "code",
   "source": [
    "# Cvlac type enum definition\n",
    "class CvlacType(Enum):\n",
    "    NORMAL = \"Normal\"\n",
    "    PRIVATE = \"Privado\"\n",
    "    EMPTY = \"Vacio\"\n",
    "    UNKNOWN = \"Tipo desconocido\"\n",
    "    ERROR = \"Error processando la URL\"\n"
   ],
   "id": "d08318754ab1c443",
   "outputs": [],
   "execution_count": 76
  },
  {
   "metadata": {
    "ExecuteTime": {
     "end_time": "2025-01-08T22:59:11.944723Z",
     "start_time": "2025-01-08T22:59:11.930599Z"
    }
   },
   "cell_type": "code",
   "source": [
    "# Named tuple definition for type hinting\n",
    "# Data structure for each row of all dataframes.\n",
    "class ParsedCvlac(NamedTuple):\n",
    "    url_cvlac: str\n",
    "    html_document: str\n",
    "    cvlac_type: CvlacType\n"
   ],
   "id": "b607f9db34e6d1e7",
   "outputs": [],
   "execution_count": 77
  },
  {
   "metadata": {
    "ExecuteTime": {
     "end_time": "2025-01-08T22:59:11.976276Z",
     "start_time": "2025-01-08T22:59:11.962759Z"
    }
   },
   "cell_type": "code",
   "source": [
    "# Definition of detectiion function\n",
    "def parse_and_identify_page_type(df_row) -> str:\n",
    "\n",
    "    html_string = df_row[\"Document\"]\n",
    "    cvlac_url = df_row[\"url_cvlac\"]\n",
    "\n",
    "    soup = BeautifulSoup(html_string, \"html.parser\")\n",
    "\n",
    "    try:\n",
    "        # 1. Identification of private pages. They are the simplest ones.\n",
    "        private_msg_baseline = \"La información de este currículo no está disponible por solicitud del investigador\"\n",
    "        private_msg_scraped = soup.find_all(\"blockquote\")[1].text.strip()\n",
    "        if private_msg_scraped == private_msg_baseline:\n",
    "            return CvlacType.PRIVATE.value\n",
    "\n",
    "        # 2. Identification of empty pages. Second simplest.\n",
    "        academic_formation_string = \"Formación Académica\"\n",
    "        academic_formation_element_string = soup.find(string=academic_formation_string)\n",
    "\n",
    "        if academic_formation_element_string is None:\n",
    "            return CvlacType.EMPTY.value\n",
    "\n",
    "        if academic_formation_element_string is not None:\n",
    "            return CvlacType.NORMAL.value\n",
    "\n",
    "\n",
    "        # 4. If none of the if statements were entered, this is an unknown page.\n",
    "        return CvlacType.UNKNOWN.value\n",
    "    except:\n",
    "        print(f\"Error ocurred in processing of cvlac: {cvlac_url}\")\n",
    "        print(traceback.format_exc())\n",
    "        return CvlacType.ERROR.value\n"
   ],
   "id": "9e4f38efb4507e9d",
   "outputs": [],
   "execution_count": 78
  },
  {
   "metadata": {
    "ExecuteTime": {
     "end_time": "2025-01-08T22:59:12.007819Z",
     "start_time": "2025-01-08T22:59:11.994308Z"
    }
   },
   "cell_type": "code",
   "source": [
    "# Definition of detectiion function\n",
    "def parse_and_identify_page_type_test(html_string) -> str:\n",
    "\n",
    "\n",
    "    soup = BeautifulSoup(html_string, \"html.parser\")\n",
    "\n",
    "    try:\n",
    "        # 1. Identification of private pages. They are the simplest ones.\n",
    "        private_msg_baseline = \"La información de este currículo no está disponible por solicitud del investigador\"\n",
    "        private_msg_scraped = soup.find_all(\"blockquote\")[1].text.strip()\n",
    "        if private_msg_scraped == private_msg_baseline:\n",
    "            return CvlacType.PRIVATE.value\n",
    "\n",
    "        # 2. Identification of empty pages. Second simplest.\n",
    "        academic_formation_string = \"Formación Académica\"\n",
    "        academic_formation_element_string = soup.find(string=academic_formation_string)\n",
    "\n",
    "        if academic_formation_element_string is None:\n",
    "            return CvlacType.EMPTY.value\n",
    "\n",
    "        if academic_formation_element_string is not None:\n",
    "            return CvlacType.NORMAL.value\n",
    "\n",
    "\n",
    "        # 4. If none of the if statements were entered, this is an unknown page.\n",
    "        return CvlacType.UNKNOWN.value\n",
    "    except:\n",
    "        print(traceback.format_exc())\n",
    "        return CvlacType.ERROR.value\n"
   ],
   "id": "c852719fd8156b33",
   "outputs": [],
   "execution_count": 79
  },
  {
   "metadata": {
    "ExecuteTime": {
     "end_time": "2025-01-08T22:59:12.039703Z",
     "start_time": "2025-01-08T22:59:12.025929Z"
    }
   },
   "cell_type": "code",
   "source": [
    "# Function for reading HTML files as strings\n",
    "# Read the entire contents of an HTML file into a string\n",
    "def read_html_file(file_path: str):\n",
    "    with open(file_path, 'r', encoding='latin-1') as file:\n",
    "        file_contents = file.read()\n",
    "    return file_contents\n"
   ],
   "id": "5610394b9db266da",
   "outputs": [],
   "execution_count": 80
  },
  {
   "metadata": {},
   "cell_type": "markdown",
   "source": [
    "---\n",
    "\n",
    "## Private page sampling"
   ],
   "id": "dbada7722659c3f2"
  },
  {
   "metadata": {
    "ExecuteTime": {
     "end_time": "2025-01-08T22:59:12.071772Z",
     "start_time": "2025-01-08T22:59:12.056737Z"
    }
   },
   "cell_type": "code",
   "source": [
    "# Read private samples as strings\n",
    "private_sample_1 = read_html_file(\"../sample_scraped_cvlacs/private_sample_1.html\")\n",
    "private_sample_2 = read_html_file(\"../sample_scraped_cvlacs/private_sample_2.html\")\n"
   ],
   "id": "4523c4910e286223",
   "outputs": [],
   "execution_count": 81
  },
  {
   "metadata": {
    "ExecuteTime": {
     "end_time": "2025-01-08T22:59:12.103358Z",
     "start_time": "2025-01-08T22:59:12.089302Z"
    }
   },
   "cell_type": "code",
   "source": [
    "# Creation of soup object\n",
    "soup = BeautifulSoup(private_sample_1 ,\"html.parser\")\n",
    "private_page_string = \"La información de este currículo no está disponible por solicitud del investigador\""
   ],
   "id": "f0cbf8fe5d2481bc",
   "outputs": [],
   "execution_count": 82
  },
  {
   "metadata": {
    "ExecuteTime": {
     "end_time": "2025-01-08T22:59:12.133886Z",
     "start_time": "2025-01-08T22:59:12.120650Z"
    }
   },
   "cell_type": "code",
   "source": "print(soup.prettify())",
   "id": "4a561c6ac0571661",
   "outputs": [
    {
     "name": "stdout",
     "output_type": "stream",
     "text": [
      "<!DOCTYPE html PUBLIC \"-//W3C//DTD XHTML 1.0 Transitional//EN\" \"http://www.w3.org/TR/xhtml1/DTD/xhtml1-transitional.dtd\">\n",
      "<html lang=\"en\" xml:lang=\"en\" xmlns=\"http://www.w3.org/1999/xhtml\">\n",
      " <head>\n",
      "  <title>\n",
      "   CvLAC - RG\n",
      "  </title>\n",
      "  <script>\n",
      "   var texto=\"\";\n",
      "        var NS4 = (document.layers); // Which browser?\n",
      "        var IE4 = (document.all);\n",
      "        var win = window; // window to search.\n",
      "        var n = 0;\n",
      "\n",
      "        function resaltar(valor){\n",
      "            var encontro=0;\n",
      "            var donde=0;\n",
      "            //valor=document.getElementById('tt').value;\n",
      "            reemplazar=RegExp(valor,\"i\");\n",
      "            por=\"<span style=\\u0022background-Color:yellow;\\u0022>\"+valor+\"</span>\";\n",
      "            if(texto==\"\"){texto=document.body.innerHTML};\n",
      "            txt=texto.split(\">\");\n",
      "            for (x=0;x<txt.length;x++){\n",
      "                desde=(txt[x].indexOf(\"<\")!=-1)?txt[x].indexOf(\"<\"):0;\n",
      "                tempP=txt[x].slice(0,desde);\n",
      "                tempU=txt[x].slice(desde);\n",
      "                tempPx=tempP.split(\" \");\n",
      "                for(y=0;y<tempPx.length;y++){\n",
      "                    if(tempPx[y].search(reemplazar)!=-1){\n",
      "                        tempPx[y]=tempPx[y].replace(reemplazar,por);\n",
      "                        encontro+=1;\n",
      "                    }\n",
      "                }\n",
      "                txt[x]=tempPx.join(\" \")+tempU;\n",
      "            }\n",
      "            document.body.innerHTML=txt.join(\">\");\n",
      "            //alert((encontro==0)?\"No se encontro ''\"+valor+\"''\":\"Se encontraron \"+encontro+\" coincidencias\");\n",
      "            encontro=null;\n",
      "            donde=null;\n",
      "        }\n",
      "\t\n",
      "\t<!-- Original by http://javascript.internet.com More javascripts http://www.hypergurl.com -->\n",
      "\n",
      "            function findInPage(str) {\n",
      "                //resaltar(str);\n",
      "                var txt, i, found; if (str == \"\") return false; // Find next occurance of the given string on the page, wrap around to the\n",
      "                // start of the page if necessary.\n",
      "                if (NS4) { // Look for match starting at the current point. If not found, rewind\n",
      "                    // back to the first match.\n",
      "                    if (!win.find(str)) while(win.find(str, false, true))\n",
      "                        n++; else n++; // If not found in either direction, give message. if (n == 0)\n",
      "                    alert(\"Not found.\"); } if (IE4) { txt = win.document.body.createTextRange();\n",
      "                    // Find the nth match from the top of the page.\n",
      "                    for (i = 0; i <= n && (found = txt.findText(str)) != false; i++) { txt.moveStart(\"character\", 1); txt.moveEnd(\"textedit\"); } // If found, mark it and scroll it into view.\n",
      "                    if (found) { txt.moveStart(\"character\", -1); txt.findText(str);\n",
      "                        txt.select(); txt.scrollIntoView(); n++; } // Otherwise, start over at the top of the page and find first match.\n",
      "                    else { if (n > 0) { n = 0; findInPage(str);\n",
      "                    } // Not found anywhere, give message.\n",
      "                    else alert(\"Not found.\"); } }\n",
      "                return false; }\n",
      "  </script>\n",
      "  <link href=\"https://scienti.minciencias.gov.co/cvlac/css/visualizador.css;jsessionid=9FE214304652C37BEE7A45731F52DD88\" rel=\"stylesheet\" type=\"text/css\"/>\n",
      "  <meta content=\"no-cache\" http-equiv=\"pragma\"/>\n",
      "  <meta content=\"text/html; charset=utf-8\" http-equiv=\"Content-Type\"/>\n",
      " </head>\n",
      " <body>\n",
      "  <h3 align=\"center\">\n",
      "   <font size=\"5\">\n",
      "    Hoja de vida\n",
      "   </font>\n",
      "  </h3>\n",
      "  <table>\n",
      "   <tbody>\n",
      "    <tr>\n",
      "    </tr>\n",
      "    <tr>\n",
      "     <td width=\"100%\">\n",
      "      <blockquote>\n",
      "       <a href=\"\" name=\"datos_generales\">\n",
      "       </a>\n",
      "       <table style=\"border:#999 1px solid\" width=\"100%\">\n",
      "        <tbody>\n",
      "         <tr>\n",
      "          <td>\n",
      "           Nombre\n",
      "          </td>\n",
      "          <td>\n",
      "           Paola Andrea Benavides Gómez\n",
      "          </td>\n",
      "         </tr>\n",
      "         <tr>\n",
      "          <td>\n",
      "           Nombre en citaciones\n",
      "          </td>\n",
      "          <td>\n",
      "           BENAVIDES GÓMEZ, PAOLA ANDREA\n",
      "          </td>\n",
      "         </tr>\n",
      "         <tr>\n",
      "          <td>\n",
      "           Nacionalidad\n",
      "          </td>\n",
      "          <td>\n",
      "           Colombiana\n",
      "          </td>\n",
      "         </tr>\n",
      "        </tbody>\n",
      "       </table>\n",
      "      </blockquote>\n",
      "     </td>\n",
      "    </tr>\n",
      "    <tr>\n",
      "     <td>\n",
      "      <blockquote>\n",
      "       La información de este currículo no está disponible por solicitud del investigador\n",
      "      </blockquote>\n",
      "     </td>\n",
      "    </tr>\n",
      "   </tbody>\n",
      "  </table>\n",
      " </body>\n",
      "</html>\n",
      "\n"
     ]
    }
   ],
   "execution_count": 83
  },
  {
   "metadata": {
    "ExecuteTime": {
     "end_time": "2025-01-08T22:59:12.180921Z",
     "start_time": "2025-01-08T22:59:12.167833Z"
    }
   },
   "cell_type": "code",
   "source": [
    "private_string_dirty = soup.body.find_all(\"blockquote\")[1].text\n",
    "private_string_clean = private_string_dirty.strip()"
   ],
   "id": "29735f0be5850f9",
   "outputs": [],
   "execution_count": 84
  },
  {
   "metadata": {
    "ExecuteTime": {
     "end_time": "2025-01-08T22:59:12.244549Z",
     "start_time": "2025-01-08T22:59:12.235035Z"
    }
   },
   "cell_type": "code",
   "source": "private_string_clean == private_page_string",
   "id": "72e7f3e4527392f9",
   "outputs": [
    {
     "data": {
      "text/plain": [
       "True"
      ]
     },
     "execution_count": 85,
     "metadata": {},
     "output_type": "execute_result"
    }
   ],
   "execution_count": 85
  },
  {
   "metadata": {
    "ExecuteTime": {
     "end_time": "2025-01-08T22:59:12.323336Z",
     "start_time": "2025-01-08T22:59:12.310964Z"
    }
   },
   "cell_type": "code",
   "source": "repr(soup.body.find_all(\"blockquote\")[1].text.strip())",
   "id": "53c38fa0e6996e0e",
   "outputs": [
    {
     "data": {
      "text/plain": [
       "\"'La información de este currículo no está disponible por solicitud del investigador'\""
      ]
     },
     "execution_count": 86,
     "metadata": {},
     "output_type": "execute_result"
    }
   ],
   "execution_count": 86
  },
  {
   "metadata": {
    "ExecuteTime": {
     "end_time": "2025-01-08T22:59:12.385741Z",
     "start_time": "2025-01-08T22:59:12.371001Z"
    }
   },
   "cell_type": "code",
   "source": "repr(private_page_string)\n",
   "id": "e78fd5d375dfc87",
   "outputs": [
    {
     "data": {
      "text/plain": [
       "\"'La información de este currículo no está disponible por solicitud del investigador'\""
      ]
     },
     "execution_count": 87,
     "metadata": {},
     "output_type": "execute_result"
    }
   ],
   "execution_count": 87
  },
  {
   "metadata": {
    "ExecuteTime": {
     "end_time": "2025-01-08T22:59:12.432168Z",
     "start_time": "2025-01-08T22:59:12.425139Z"
    }
   },
   "cell_type": "code",
   "source": "print(soup.body.find_all(\"blockquote\")[1].text.strip())",
   "id": "5c2c974061a4260f",
   "outputs": [
    {
     "name": "stdout",
     "output_type": "stream",
     "text": [
      "La información de este currículo no está disponible por solicitud del investigador\n"
     ]
    }
   ],
   "execution_count": 88
  },
  {
   "metadata": {
    "ExecuteTime": {
     "end_time": "2025-01-08T22:59:12.479782Z",
     "start_time": "2025-01-08T22:59:12.471781Z"
    }
   },
   "cell_type": "code",
   "source": "parse_and_identify_page_type_test(private_sample_1)",
   "id": "541c14906fce04f1",
   "outputs": [
    {
     "data": {
      "text/plain": [
       "'Privado'"
      ]
     },
     "execution_count": 89,
     "metadata": {},
     "output_type": "execute_result"
    }
   ],
   "execution_count": 89
  },
  {
   "metadata": {},
   "cell_type": "markdown",
   "source": [
    "---\n",
    "\n",
    "## Empty page sampling"
   ],
   "id": "30904d66d72808bf"
  },
  {
   "metadata": {
    "ExecuteTime": {
     "end_time": "2025-01-08T22:59:12.526301Z",
     "start_time": "2025-01-08T22:59:12.510701Z"
    }
   },
   "cell_type": "code",
   "source": [
    "# Read empty samples as strings\n",
    "empty_sample_1 = read_html_file(\"../sample_scraped_cvlacs/empty_sample_1.html\")\n",
    "empty_sample_2  = read_html_file(\"../sample_scraped_cvlacs/empty_sample_2.html\")\n"
   ],
   "id": "d09546dcb452f690",
   "outputs": [],
   "execution_count": 90
  },
  {
   "metadata": {},
   "cell_type": "markdown",
   "source": [
    "---\n",
    "\n",
    "## Normal page sampling"
   ],
   "id": "d8cf39d401586537"
  },
  {
   "metadata": {
    "ExecuteTime": {
     "end_time": "2025-01-08T22:59:12.557460Z",
     "start_time": "2025-01-08T22:59:12.542947Z"
    }
   },
   "cell_type": "code",
   "source": [
    "# Read normal samples as strings\n",
    "normal_sample_1 = read_html_file(\"../sample_scraped_cvlacs/normal_sample_1.html\")\n",
    "normal_sample_2 = read_html_file(\"../sample_scraped_cvlacs/normal_sample_2.html\")\n"
   ],
   "id": "c75b2fdd94154129",
   "outputs": [],
   "execution_count": 91
  },
  {
   "metadata": {},
   "cell_type": "code",
   "outputs": [],
   "execution_count": null,
   "source": "soup = BeautifulSoup(normal_sample_1, \"html.parser\")\n",
   "id": "f0e57c853778a1ec"
  }
 ],
 "metadata": {
  "kernelspec": {
   "display_name": "Python 3",
   "language": "python",
   "name": "python3"
  },
  "language_info": {
   "codemirror_mode": {
    "name": "ipython",
    "version": 2
   },
   "file_extension": ".py",
   "mimetype": "text/x-python",
   "name": "python",
   "nbconvert_exporter": "python",
   "pygments_lexer": "ipython2",
   "version": "2.7.6"
  }
 },
 "nbformat": 4,
 "nbformat_minor": 5
}
