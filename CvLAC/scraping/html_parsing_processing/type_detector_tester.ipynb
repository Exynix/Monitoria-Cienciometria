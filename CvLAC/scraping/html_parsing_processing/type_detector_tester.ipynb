{
 "cells": [
  {
   "metadata": {},
   "cell_type": "markdown",
   "source": [
    "# Testing Notebook for Cvlac Page Type Detection.\n",
    "- Author: David Santiago Barreto Mora\n",
    "- Last updated: 08/01/2024\n",
    "\n",
    "---"
   ],
   "id": "35dc860c1ebde41b"
  },
  {
   "metadata": {
    "ExecuteTime": {
     "end_time": "2025-01-08T21:00:54.755621Z",
     "start_time": "2025-01-08T21:00:54.749615Z"
    }
   },
   "cell_type": "code",
   "source": [
    "# Import Python libraries\n",
    "from typing import List, NamedTuple\n",
    "from enum import Enum\n",
    "import traceback"
   ],
   "id": "1c0dea21c0fe4bb8",
   "outputs": [],
   "execution_count": 17
  },
  {
   "metadata": {
    "ExecuteTime": {
     "end_time": "2025-01-08T21:00:54.787290Z",
     "start_time": "2025-01-08T21:00:54.773263Z"
    }
   },
   "cell_type": "code",
   "source": [
    "# Import third party modules\n",
    "from bs4 import BeautifulSoup\n",
    "# import knime.scripting.io as knio"
   ],
   "id": "2c7e08ea28d9a213",
   "outputs": [],
   "execution_count": 18
  },
  {
   "metadata": {
    "ExecuteTime": {
     "end_time": "2025-01-08T21:00:54.817296Z",
     "start_time": "2025-01-08T21:00:54.804456Z"
    }
   },
   "cell_type": "code",
   "source": [
    "# Cvlac type enum definition\n",
    "class CvlacType(Enum):\n",
    "    NORMAL = \"Normal\"\n",
    "    PRIVATE = \"Privado\"\n",
    "    EMPTY = \"Vacio\"\n",
    "    UNKNOWN = \"Tipo desconocido\"\n",
    "    ERROR = \"Error processando la URL\"\n"
   ],
   "id": "d08318754ab1c443",
   "outputs": [],
   "execution_count": 19
  },
  {
   "metadata": {
    "ExecuteTime": {
     "end_time": "2025-01-08T21:00:54.847431Z",
     "start_time": "2025-01-08T21:00:54.834478Z"
    }
   },
   "cell_type": "code",
   "source": [
    "# Named tuple definition for type hinting\n",
    "# Data structure for each row of all dataframes.\n",
    "class ParsedCvlac(NamedTuple):\n",
    "    url_cvlac: str\n",
    "    html_document: str\n",
    "    cvlac_type: CvlacType\n"
   ],
   "id": "b607f9db34e6d1e7",
   "outputs": [],
   "execution_count": 20
  },
  {
   "metadata": {
    "ExecuteTime": {
     "end_time": "2025-01-08T21:00:54.877737Z",
     "start_time": "2025-01-08T21:00:54.864663Z"
    }
   },
   "cell_type": "code",
   "source": [
    "# Definition of detectiion function\n",
    "def parse_and_identify_page_type(df_row) -> str:\n",
    "\n",
    "    html_string = df_row[\"Document\"]\n",
    "    cvlac_url = df_row[\"url_cvlac\"]\n",
    "\n",
    "    soup = BeautifulSoup(html_string, \"html.parser\")\n",
    "\n",
    "    try:\n",
    "        # 1. Identification of private pages. They are the simplest ones.\n",
    "        private_page_string = \"La información de este currículo no está disponible por solicitud del investigador\"\n",
    "        only_blockquote_element = soup.find(\"blockquote\")\n",
    "        if private_page_string == only_blockquote_element.text.strip:\n",
    "            return CvlacType.PRIVATE.value\n",
    "\n",
    "        # 2. Identification of empty pages. Second simplest.\n",
    "        academic_formation_string = \"Formación Académica\"\n",
    "        academic_formation_element_string = soup.find(string=academic_formation_string)\n",
    "\n",
    "        if academic_formation_element_string is None:\n",
    "            return CvlacType.EMPTY.value\n",
    "\n",
    "        if academic_formation_element_string is not None:\n",
    "            return CvlacType.NORMAL.value\n",
    "\n",
    "\n",
    "        # 4. If none of the if statements were entered, this is an unknown page.\n",
    "        return CvlacType.UNKNOWN.value\n",
    "    except:\n",
    "        print(f\"Error ocurred in processing of cvlac: {cvlac_url}\")\n",
    "        print(traceback.format_exc())\n",
    "        return CvlacType.ERROR.value\n"
   ],
   "id": "9e4f38efb4507e9d",
   "outputs": [],
   "execution_count": 21
  },
  {
   "metadata": {
    "ExecuteTime": {
     "end_time": "2025-01-08T21:00:54.909390Z",
     "start_time": "2025-01-08T21:00:54.895276Z"
    }
   },
   "cell_type": "code",
   "source": [
    "# Function for reading HTML files as strings\n",
    "# Read the entire contents of an HTML file into a string\n",
    "def read_html_file(file_path: str):\n",
    "    with open(file_path, 'r', encoding='latin-1') as file:\n",
    "        file_contents = file.read()\n",
    "    return file_contents\n"
   ],
   "id": "5610394b9db266da",
   "outputs": [],
   "execution_count": 22
  },
  {
   "metadata": {},
   "cell_type": "markdown",
   "source": [
    "---\n",
    "\n",
    "## Private page sampling"
   ],
   "id": "dbada7722659c3f2"
  },
  {
   "metadata": {
    "ExecuteTime": {
     "end_time": "2025-01-08T21:00:54.939647Z",
     "start_time": "2025-01-08T21:00:54.926415Z"
    }
   },
   "cell_type": "code",
   "source": [
    "# Read private samples as strings\n",
    "private_sample_1 = read_html_file(\"../sample_scraped_cvlacs/private_sample_1.html\")\n",
    "private_sample_2 = read_html_file(\"../sample_scraped_cvlacs/private_sample_2.html\")\n"
   ],
   "id": "4523c4910e286223",
   "outputs": [],
   "execution_count": 23
  },
  {
   "metadata": {},
   "cell_type": "markdown",
   "source": [
    "---\n",
    "\n",
    "## Empty page sampling"
   ],
   "id": "e507666972691877"
  },
  {
   "metadata": {
    "ExecuteTime": {
     "end_time": "2025-01-08T21:00:54.970269Z",
     "start_time": "2025-01-08T21:00:54.956512Z"
    }
   },
   "cell_type": "code",
   "source": [
    "# Read empty samples as strings\n",
    "empty_sample_1 = read_html_file(\"../sample_scraped_cvlacs/empty_sample_1.html\")\n",
    "empty_sample_2  = read_html_file(\"../sample_scraped_cvlacs/empty_sample_2.html\")\n"
   ],
   "id": "d09546dcb452f690",
   "outputs": [],
   "execution_count": 24
  },
  {
   "metadata": {},
   "cell_type": "markdown",
   "source": [
    "---\n",
    "\n",
    "## Normal page sampling"
   ],
   "id": "d8cf39d401586537"
  },
  {
   "metadata": {
    "ExecuteTime": {
     "end_time": "2025-01-08T21:00:55.001365Z",
     "start_time": "2025-01-08T21:00:54.987797Z"
    }
   },
   "cell_type": "code",
   "source": [
    "# Read normal samples as strings\n",
    "normal_sample_1 = read_html_file(\"../sample_scraped_cvlacs/normal_sample_1.html\")\n",
    "normal_sample_2 = read_html_file(\"../sample_scraped_cvlacs/normal_sample_2.html\")\n"
   ],
   "id": "c75b2fdd94154129",
   "outputs": [],
   "execution_count": 25
  }
 ],
 "metadata": {
  "kernelspec": {
   "display_name": "Python 3",
   "language": "python",
   "name": "python3"
  },
  "language_info": {
   "codemirror_mode": {
    "name": "ipython",
    "version": 2
   },
   "file_extension": ".py",
   "mimetype": "text/x-python",
   "name": "python",
   "nbconvert_exporter": "python",
   "pygments_lexer": "ipython2",
   "version": "2.7.6"
  }
 },
 "nbformat": 4,
 "nbformat_minor": 5
}
