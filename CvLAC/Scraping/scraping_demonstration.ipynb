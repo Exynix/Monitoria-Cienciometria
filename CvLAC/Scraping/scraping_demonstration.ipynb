{
 "cells": [
  {
   "cell_type": "markdown",
   "metadata": {},
   "source": [
    "# Demostración de Funcionamiento de Scraping de páginas de CvLAC usando Python y BS4\n",
    "\n",
    "- **Autor:** David Santiago Barreto Mora\n",
    "- **Última fecha de actualización:** 10/10/2024\n",
    "---"
   ]
  },
  {
   "cell_type": "markdown",
   "metadata": {},
   "source": [
    "Los objetivos de este notebook son:\n",
    "- Demostrar el procedimiento de Web Scraping de páginas de CvLAC usando Python, y las librerías de requests y BS4(Beautifoul soup 4).\n",
    "    - Explicar el funcionamiento y detalles de implementación del scraper.\n",
    "- Comparar el rendimiento de este método de scraping VS la extensión actualmente usada.\n",
    "---"
   ]
  },
  {
   "cell_type": "markdown",
   "metadata": {
    "vscode": {
     "languageId": "plaintext"
    }
   },
   "source": [
    "# Implementación de Web Scraper con Python, Requests y BS4."
   ]
  },
  {
   "cell_type": "markdown",
   "metadata": {},
   "source": [
    "## Setup y  Configuración\n",
    "Para poder ejecutar tanto este notebook, como el script de producción, se deben configurar adecuadamente estas dependencias:\n",
    "- Anaconda. El script y el notebook corren en entornos de Anaconda, no venv. El entorno tiene las siguientes características:\n",
    "    - Nombre: <<to define>>\n",
    "    - Dependencias notables instaladas: BS"
   ]
  },
  {
   "cell_type": "markdown",
   "metadata": {},
   "source": [
    "---\n",
    "# Comparación de tiempos y desempeño "
   ]
  }
 ],
 "metadata": {
  "language_info": {
   "name": "python"
  }
 },
 "nbformat": 4,
 "nbformat_minor": 2
}
