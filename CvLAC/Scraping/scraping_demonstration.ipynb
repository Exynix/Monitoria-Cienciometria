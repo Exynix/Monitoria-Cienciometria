{
 "cells": [
  {
   "cell_type": "markdown",
   "metadata": {},
   "source": [
    "# Demostración de Funcionamiento de Scraping de páginas de CvLAC usando Python y BS4\n",
    "\n",
    "- **Autor:** David Santiago Barreto Mora\n",
    "- **Última fecha de actualización:** 29/10/2024\n",
    "---"
   ]
  },
  {
   "cell_type": "markdown",
   "metadata": {},
   "source": [
    "Los objetivos de este notebook son:\n",
    "- Demostrar el procedimiento de Web Scraping de páginas de CvLAC usando Python, y las librerías de requests y BS4(Beautifoul soup 4).\n",
    "    - Explicar el funcionamiento y detalles de implementación del scraper.\n",
    "- Comparar el rendimiento de este método de scraping VS la extensión actualmente usada.\n",
    "---"
   ]
  },
  {
   "cell_type": "markdown",
   "metadata": {
    "vscode": {
     "languageId": "plaintext"
    }
   },
   "source": [
    "# Implementación de Web Scraper con Python, Requests y BS4."
   ]
  },
  {
   "cell_type": "markdown",
   "metadata": {},
   "source": [
    "## Setup y  Configuración\n",
    "Todas las celdas de este notebook estarán ejecutadas para poder ver los resultados. Sin embargo, si se desea \n",
    "re-ejecutar las celdas, o modificar el codigo fuente del notebook o el script de producción, se deben configurar \n",
    "adecuadamente estas dependencias:\n",
    "- Anaconda. El script y el notebook corren en entornos de Anaconda, no venv. El entorno tiene las siguientes \n",
    "características:\n",
    "    - Nombre: Dir_Investigacion_CvLAC \n",
    "    - Dependencias notables instaladas: BS4, Selenium.\n",
    "\n",
    "### Creación del Environment de Anaconda\n",
    "Con fines de reproducibilidad y estandarización en el equipo, el ambiente de anaconda usado en la implementación \n",
    "de este módulo fue exportado a un archivo ``.yml``. Para la ejecución y modificación del código, se recomienda\n",
    "fuertemente usar un ambiente de anaconda creado con el archivo ``.yml``, ya que asi se garantiza el mismo ambiente\n",
    "de desarrollo, con las mismas versiones de las dependencias usadas. \n",
    "\n",
    "La creación de un ambiente de anaconda con un archivo ``.yml`` es simple. Solo hay que seguir los siguientes pasos:\n",
    "1. Descargar el archivo ``.yml`` del repositorio de Github (pedir autorización si es necesario).\n",
    "2. Abrir un shell de anaconda, o un command shell (windows) / terminal (linux/mac).\n",
    "3. Dentro del shell correr el comando:\n",
    "``conda env create -f environment.yml``\n",
    "4. Esperar que se instale el ambiente y configure el ambiente. Activarlo si es necesario, una vez terminada la \n",
    "instalación."
   ]
  },
  {
   "cell_type": "markdown",
   "metadata": {},
   "source": [
    "---\n",
    "# Comparación de tiempos y desempeño "
   ]
  },
  {
   "cell_type": "markdown",
   "metadata": {},
   "source": [
    "---\n",
    "# Demostración de funcionamiento\n",
    "## Scraping"
   ]
  }
 ],
 "metadata": {
  "kernelspec": {
   "display_name": "base",
   "language": "python",
   "name": "python3"
  },
  "language_info": {
   "codemirror_mode": {
    "name": "ipython",
    "version": 3
   },
   "file_extension": ".py",
   "mimetype": "text/x-python",
   "name": "python",
   "nbconvert_exporter": "python",
   "pygments_lexer": "ipython3",
   "version": "3.11.7"
  }
 },
 "nbformat": 4,
 "nbformat_minor": 2
}
